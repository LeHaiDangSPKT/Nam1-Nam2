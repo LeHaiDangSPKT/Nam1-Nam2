{
 "cells": [
  {
   "cell_type": "markdown",
   "metadata": {},
   "source": [
    "## Lab 3 - Suy luận thống kê\n",
    "\n",
    "**Họ tên**: Lê Hải Đăng\n",
    "\n",
    "**MSSV**: 20110243\n",
    "\n",
    "**STT**: 11\n"
   ]
  },
  {
   "cell_type": "markdown",
   "metadata": {},
   "source": [
    "## Giới thiệu\n",
    "\n",
    "Một nhóm nghiên cứu điều tra tốc độ đánh máy bằng tiếng Anh bằng hai hệ thống máy tính:\n",
    "\n",
    "- **NO HELP**: Không có trợ giúp sửa lỗi chính tả tự động được cung cấp bởi hệ thống.\n",
    "\n",
    "- **AUTO-CORRECTION**: Hệ thống liên tục cố gắng tự động sửa lỗi chính tả.\n",
    "\n",
    "Các nhà nghiên cứu thử nghiệm hai bàn phím khác nhau: (i) bàn phím **QWERTY** và (ii) **AZERTY**.\n",
    "\n",
    "Các nhà nghiên cứu đưa ra giả thuyết $H_1$ rằng nhập văn bản với tính năng sửa lỗi tự động (**AUTO-CORRECTION**) nhanh hơn so với nhập liệu không có trợ giúp (**NO HELP**). Họ cũng đưa ra giả thuyết $H_2$ rằng gõ bằng bàn phím **AZERTY** nhanh hơn gõ bằng bàn phím **QWERTY**.\n",
    "\n",
    "Để kiểm tra hai giả thuyết này ($H_1$ và $H_2$), nhóm nghiên cứu tiến hành một cuộc thử nghiệm với 32 người nói tiếng Anh tham gia. Những người tham gia được chia thành hai nhóm độc lập, mỗi nhóm có 16 người. Ở nhóm đầu tiên ($G_1$), người tham gia sử dụng bàn phím **AZERTY**. Trong khi đó, ở nhóm thứ hai ($G_2$), người tham gia sử dụng bàn phím **QWERTY**. Tất cả 32 người tham gia thử nghiệm lần lượt cả hệ thống không có trợ giúp (**NO HELP**) và sửa lỗi tự động (**AUTO-CORRECTION**).\n",
    "\n",
    "Để giảm sự sai lệch do tác động của thứ tự (do mệt mỏi hoặc tốn thời gian học), các nhà nghiên cứu thay đổi thứ tự trình bày của hai hệ thống như sau. Đối với mỗi loại bàn phím, đầu tiên, một nửa số người tham gia sử dụng hệ thống không có trợ giúp (**NO HELP**) và sau đó là hệ thống sửa lỗi tự động (**AUTO-CORRECTION**). Một nửa số người tham gia còn lại sử dụng chúng theo thứ tự ngược lại.\n",
    "\n",
    "Để đánh giá hiệu suất đánh máy, các nhà nghiên cứu đo số từ gõ được trung bình mỗi phút (WPM)."
   ]
  },
  {
   "cell_type": "markdown",
   "metadata": {},
   "source": [
    "\n",
    "## Bước 1. Thu thập dữ liệu\n",
    "\n",
    "Giả sử các nhà nghiên cứu đã hoàn thành thí nghiệm và đã thu thập được kết quả. Ở đây, chúng ta mô phỏng quá trình tạo dữ liệu bằng cách lấy mẫu ngẫu nhiên từ một số quần thể cố định. Để tạo dữ liệu, bạn sẽ sử dụng đoạn mã bên dưới. Bạn chỉ cần chạy đoạn mã và sau đó sử dụng biến `data` làm tập dữ liệu của mình. Lưu ý rằng mỗi bạn sẽ tạo một tập dữ liệu khác nhau tùy vào mã số sinh viên (MSSV) và số thứ tự (STT) của mình (bạn cần thay đổi biến `MSSV` và `STT` cho đúng với MSSV và STT của bạn ở đoạn mã bên dưới), vì vậy kết luận của các phân tích của mỗi bạn có thể khác nhau.\n",
    "\n",
    "Dữ liệu chứa năm cột với thông tin sau: (i) mã số người tham gia (`id`), (ii) loại bàn phím (`keyboard`: qwerty hoặc azerty), (iii) hệ thống (`system`: nohelp hoặc autocorrection), (iv) thứ tự trình bày của hệ thống (`systemorder`: 1 hoặc 2) và (v) số từ được gõ trung bình mỗi phút (`wpm`). Vì bạn không được yêu cầu phân tích ảnh hưởng của thứ tự trình bày của hệ thống, bạn có thể bỏ qua cột thứ 4 (thứ tự hệ thống).\n"
   ]
  },
  {
   "cell_type": "code",
   "execution_count": 1,
   "metadata": {},
   "outputs": [
    {
     "data": {
      "text/html": [
       "<div>\n",
       "<style scoped>\n",
       "    .dataframe tbody tr th:only-of-type {\n",
       "        vertical-align: middle;\n",
       "    }\n",
       "\n",
       "    .dataframe tbody tr th {\n",
       "        vertical-align: top;\n",
       "    }\n",
       "\n",
       "    .dataframe thead th {\n",
       "        text-align: right;\n",
       "    }\n",
       "</style>\n",
       "<table border=\"1\" class=\"dataframe\">\n",
       "  <thead>\n",
       "    <tr style=\"text-align: right;\">\n",
       "      <th></th>\n",
       "      <th>id</th>\n",
       "      <th>keyboard</th>\n",
       "      <th>system</th>\n",
       "      <th>systemorder</th>\n",
       "      <th>wpm</th>\n",
       "    </tr>\n",
       "  </thead>\n",
       "  <tbody>\n",
       "    <tr>\n",
       "      <th>0</th>\n",
       "      <td>0</td>\n",
       "      <td>azerty</td>\n",
       "      <td>nohelp</td>\n",
       "      <td>1</td>\n",
       "      <td>42.5</td>\n",
       "    </tr>\n",
       "    <tr>\n",
       "      <th>1</th>\n",
       "      <td>1</td>\n",
       "      <td>azerty</td>\n",
       "      <td>nohelp</td>\n",
       "      <td>1</td>\n",
       "      <td>30.8</td>\n",
       "    </tr>\n",
       "    <tr>\n",
       "      <th>2</th>\n",
       "      <td>2</td>\n",
       "      <td>azerty</td>\n",
       "      <td>nohelp</td>\n",
       "      <td>1</td>\n",
       "      <td>22.7</td>\n",
       "    </tr>\n",
       "    <tr>\n",
       "      <th>3</th>\n",
       "      <td>3</td>\n",
       "      <td>azerty</td>\n",
       "      <td>nohelp</td>\n",
       "      <td>1</td>\n",
       "      <td>4.9</td>\n",
       "    </tr>\n",
       "    <tr>\n",
       "      <th>4</th>\n",
       "      <td>4</td>\n",
       "      <td>azerty</td>\n",
       "      <td>nohelp</td>\n",
       "      <td>1</td>\n",
       "      <td>34.4</td>\n",
       "    </tr>\n",
       "  </tbody>\n",
       "</table>\n",
       "</div>"
      ],
      "text/plain": [
       "   id keyboard  system  systemorder   wpm\n",
       "0   0   azerty  nohelp            1  42.5\n",
       "1   1   azerty  nohelp            1  30.8\n",
       "2   2   azerty  nohelp            1  22.7\n",
       "3   3   azerty  nohelp            1   4.9\n",
       "4   4   azerty  nohelp            1  34.4"
      ]
     },
     "execution_count": 1,
     "metadata": {},
     "output_type": "execute_result"
    }
   ],
   "source": [
    "import numpy as np\n",
    "import pandas as pd\n",
    "from scipy.stats import norm\n",
    "from scipy import stats\n",
    "import statistics as stat\n",
    "\n",
    "MSSV = 20113000 # Thay giá trị này thành MSSV của bạn\n",
    "STT = 11 # Thay giá trị này thành STT của bạn\n",
    "\n",
    "# Nhóm azerty\n",
    "m1_no = 29.4 # No Help\n",
    "m1_yes = 36.5 # Auto-Correction\n",
    "\n",
    "# Nhóm qwerty\n",
    "m2_no = 28.1 # No Help\n",
    "m2_yes = 37.2 # Auto-Correction\n",
    "\n",
    "# standard deviation\n",
    "sd = 8\n",
    "\n",
    "# within-participant variability\n",
    "dwpm_1 = norm.rvs(loc=0, scale=5, size=8, random_state=MSSV)\n",
    "dwpm_2 = norm.rvs(loc=0, scale=5, size=8, random_state=STT)\n",
    "\n",
    "# Datafame cho azerty group\n",
    "df1 = pd.DataFrame({\n",
    "    'id': list(range(8)), \n",
    "    'keyboard': np.repeat(\"azerty\", 8), \n",
    "    'system': np.repeat(\"nohelp\", 8), \n",
    "    'systemorder': np.repeat(1, 8), \n",
    "    'wpm': norm.rvs(loc=m1_no, scale=sd, size=8, random_state=STT) + dwpm_1\n",
    "})\n",
    "\n",
    "df2 = pd.DataFrame({\n",
    "    'id': range(8), \n",
    "    'keyboard': np.repeat(\"azerty\", 8), \n",
    "    'system': np.repeat(\"autocorrection\", 8), \n",
    "    'systemorder': np.repeat(2, 8), \n",
    "    'wpm': norm.rvs(loc=m1_yes, scale=sd, size=8, random_state=STT*10) + dwpm_1\n",
    "})\n",
    "\n",
    "df3 = pd.DataFrame({\n",
    "    'id': range(8,16), \n",
    "    'keyboard': np.repeat(\"azerty\", 8), \n",
    "    'system': np.repeat(\"autocorrection\", 8), \n",
    "    'systemorder': np.repeat(1, 8), \n",
    "    'wpm': norm.rvs(loc=m1_yes, scale=sd, size=8, random_state=STT*100) + dwpm_1\n",
    "})\n",
    "\n",
    "df4 = pd.DataFrame({\n",
    "    'id': range(8,16), \n",
    "    'keyboard': np.repeat(\"azerty\", 8), \n",
    "    'system': np.repeat(\"nohelp\", 8), \n",
    "    'systemorder': np.repeat(2, 8), \n",
    "    'wpm': norm.rvs(loc=m1_no, scale=sd, size=8, random_state=STT*10**3) + dwpm_1\n",
    "})\n",
    "\n",
    "# Datafame cho qwerty group\n",
    "df5 = pd.DataFrame({\n",
    "    'id': range(16,24), \n",
    "    'keyboard': np.repeat(\"qwerty\", 8), \n",
    "    'system': np.repeat(\"nohelp\", 8), \n",
    "    'systemorder': np.repeat(1, 8), \n",
    "    'wpm': norm.rvs(loc=m2_no, scale=sd, size=8, random_state=STT*10**4) + dwpm_2\n",
    "})\n",
    "\n",
    "df6 = pd.DataFrame({\n",
    "    'id': range(16,24), \n",
    "    'keyboard': np.repeat(\"qwerty\", 8), \n",
    "    'system': np.repeat(\"autocorrection\", 8), \n",
    "    'systemorder': np.repeat(2, 8), \n",
    "    'wpm': norm.rvs(loc=m2_yes, scale=sd, size=8, random_state=STT*10**5) + dwpm_2\n",
    "})\n",
    "\n",
    "df7 = pd.DataFrame({\n",
    "    'id': range(24,32), \n",
    "    'keyboard': np.repeat(\"qwerty\", 8), \n",
    "    'system': np.repeat(\"autocorrection\", 8), \n",
    "    'systemorder': np.repeat(1, 8), \n",
    "    'wpm': norm.rvs(loc=m2_yes, scale=sd, size=8, random_state=STT*10**6) + dwpm_2\n",
    "})\n",
    "\n",
    "df8 = pd.DataFrame({\n",
    "    'id': range(24,32), \n",
    "    'keyboard': np.repeat(\"qwerty\", 8), \n",
    "    'system': np.repeat(\"nohelp\", 8), \n",
    "    'systemorder': np.repeat(2, 8), \n",
    "    'wpm': norm.rvs(loc=m2_no, scale=sd, size=8, random_state=STT*10**7) + dwpm_2\n",
    "})\n",
    "\n",
    "# Kết hợp dữ liệu của hai nhóm\n",
    "data = pd.concat([df1, df2, df3, df4, df5, df6, df7, df8], ignore_index=True)\n",
    "\n",
    "# Làm tròn một chữ số thập phân\n",
    "data[\"wpm\"] = data[\"wpm\"].round(1)\n",
    "\n",
    "# Sắp xếp theo id\n",
    "data.sort_values(by=['id'])\n",
    "\n",
    "data.head()"
   ]
  },
  {
   "cell_type": "markdown",
   "metadata": {},
   "source": [
    "## Bước 2. Thống kê mô tả\n",
    "\n",
    "Viết mã để tính toán thống kê mô tả cho dữ liệu thử nghiệm của bạn. Thống kê mô tả sẽ bao gồm **trung bình (mean)**, **trung vị (median)** và **độ lệch chuẩn (standard deviation)** (i) đối với từng loại bàn phím riêng lẻ (AZERTY và QWERTY) và (ii) đối với từng hệ thống (NO HELP và AUTO-CORRECTION).\n"
   ]
  },
  {
   "cell_type": "code",
   "execution_count": 3,
   "metadata": {},
   "outputs": [
    {
     "name": "stdout",
     "output_type": "stream",
     "text": [
      "**Đối với bàn phím AZERTY***\n",
      "Trung bình số từ trung bình gõ được trong một phút:  31.36875\n",
      "Trung vị số từ trung bình gõ được trong một phút:  30.3\n",
      "Độ lệch chuẩn số từ trung bình gõ được trong một phút:  10.415603601668833\n",
      "\n",
      "\n",
      "**Đối với bàn phím QWERTY***\n",
      "Trung bình số từ trung bình gõ được trong một phút:  28.859375\n",
      "Trung vị số từ trung bình gõ được trong một phút:  27.6\n",
      "Độ lệch chuẩn số từ trung bình gõ được trong một phút:  11.316897425474425\n",
      "\n",
      "\n",
      "**Đối với Hệ thống NO-HELP***\n",
      "Trung bình số từ trung bình gõ được trong một phút:  24.675\n",
      "Trung vị số từ trung bình gõ được trong một phút:  24.299999999999997\n",
      "Độ lệch chuẩn số từ trung bình gõ được trong một phút:  10.131840580486207\n",
      "\n",
      "\n",
      "**Đối với Hệ thống AUTO-CORRECTION***\n",
      "Trung bình số từ trung bình gõ được trong một phút:  35.553125\n",
      "Trung vị số từ trung bình gõ được trong một phút:  36.05\n",
      "Độ lệch chuẩn số từ trung bình gõ được trong một phút:  8.722236483505451\n",
      "\n",
      "\n"
     ]
    }
   ],
   "source": [
    "# Viết code của bạn ở đây\n",
    "\n",
    "def measure(data):\n",
    "    mean = stat.mean(data.wpm)\n",
    "    median = stat.median(data.wpm)\n",
    "    standard_deviation = stat.stdev(data.wpm)\n",
    "    print(\"Trung bình số từ trung bình gõ được trong một phút: \", mean)\n",
    "    print(\"Trung vị số từ trung bình gõ được trong một phút: \", median)\n",
    "    print(\"Độ lệch chuẩn số từ trung bình gõ được trong một phút: \", standard_deviation)\n",
    "    print(\"\\n\")\n",
    "#i) \n",
    "    # Bàn phím AZERTY\n",
    "print(\"**Đối với bàn phím AZERTY***\")\n",
    "data_azerty = data[(data.keyboard == \"azerty\")]\n",
    "result_azerty = measure(data_azerty)\n",
    "\n",
    "    # Bàn phím QWERTY\n",
    "print(\"**Đối với bàn phím QWERTY***\")\n",
    "data_qwerty = data[(data.keyboard == \"qwerty\")]\n",
    "result_qwerty = measure(data_qwerty)\n",
    "\n",
    "\n",
    "#ii) \n",
    "    # Hệ thống NO-HELP\n",
    "print(\"**Đối với Hệ thống NO-HELP***\")\n",
    "data_nohelp = data[(data.system == \"nohelp\")]\n",
    "result_nohelp = measure(data_nohelp)\n",
    "\n",
    "    # Hệ thống AUTO-CORRECTION\n",
    "print(\"**Đối với Hệ thống AUTO-CORRECTION***\")\n",
    "data_autocorrection = data[(data.system == \"autocorrection\")]\n",
    "result_autocorrection = measure(data_autocorrection)\n",
    "\n"
   ]
  },
  {
   "cell_type": "markdown",
   "metadata": {},
   "source": [
    "### Nhận xét\n",
    "\n",
    "1. **Đối với bàn phím:** nhìn vào các giá trị mà ta có được, ta thấy rằng các giá trị trung bình và trung vị của cả 02 loại bàn phím có sự chênh lệnh nhỏ, cho thấy loại bàn phím có sự ảnh hưởng đến wpm nhưng không quá lớn.\n",
    "2. **Đối với các hệ thống hỗ trợ:** nhìn vào các giá trị mà ta có được, ta thấy rằng các giá trị trung bình và trung vị của cả 02 loại hệ thống có sự chênh lệnh lớn. Cụ thể, trung bình của wpm với hệ thống NO-HELP gần bằng 25 và trung bình của wpm với hệ thống AUTO-CORRECTION gần bằng 36. Điều này cho thấy việc có hệ thống sửa lỗi tự động sẽ hiệu quả và năng suất hơn rất nhiều so với hệ thống không hỗ trợ người dùng.\n",
    "3. Tóm lại, việc gõ máy cũng là một trong những ảnh hưởng đến hiệu suất làm việc. Vì thế, muốn năng cao năng suất làm việc thì chúng ta cần lựa chọn các loại bàn phím phù hợp và nên có các hệ thống hỗ trợ sửa lỗi tự động.\n",
    "\n",
    "Và để trực quan hơn, chúng ta nên có những biểu đồ để dễ quan sát và so sánh các số liệu.\n"
   ]
  },
  {
   "cell_type": "markdown",
   "metadata": {},
   "source": [
    "\n",
    "## Bước 3. Vẽ biểu đồ\n",
    "\n",
    "Tạo biểu đồ hộp (boxplot) để tóm tắt bằng đồ thị các phân phối của `wpm` (i) cho hai loại bàn phím và (ii) cho hai hệ thống. Đồng thời tạo ra đồ `qqplot` để đánh giá trực quan mức độ mà các mẫu của bạn sai lệch so với phân phối chuẩn (Normal distribution). Bạn quan sát thấy gì?"
   ]
  },
  {
   "cell_type": "code",
   "execution_count": 4,
   "metadata": {},
   "outputs": [
    {
     "data": {
      "image/png": "[encoded data removed]",
      "text/plain": [
       "<Figure size 720x360 with 1 Axes>"
      ]
     },
     "metadata": {
      "needs_background": "light"
     },
     "output_type": "display_data"
    },
    {
     "data": {
      "image/png": "[encoded data removed]",
      "text/plain": [
       "<Figure size 720x360 with 1 Axes>"
      ]
     },
     "metadata": {
      "needs_background": "light"
     },
     "output_type": "display_data"
    }
   ],
   "source": [
    "# Viết code của bạn ở đây\n",
    "import matplotlib.pyplot as plt\n",
    "\n",
    "def DrawChartBoxPlot(data, title, labels):\n",
    "    fig, ax = plt.subplots(figsize=(10, 5))\n",
    "    fig.suptitle(title, fontsize = 14, color=\"green\", fontweight = \"bold\")\n",
    "    ax.grid(True, linestyle=\"--\")\n",
    "    plt.boxplot(data, labels=labels, notch=True, meanline=True, showmeans=True)\n",
    "    plt.show()\n",
    "\n",
    "data1 = [data_azerty.wpm, data_qwerty.wpm]\n",
    "DrawChartBoxPlot(data1, \"Phân phối của WPM theo hai loại bàn phím\", [\"Bàn phím Azerty\", \"Bàn phím Qwerty\"])\n",
    "data2 = [data_nohelp.wpm, data_autocorrection.wpm]\n",
    "DrawChartBoxPlot(data2, \"Phân phối của WPM theo hai hệ thống\", [\"Hệ thống No-Help\", \"Hệ thống Auto-Correction\"])\n"
   ]
  },
  {
   "cell_type": "code",
   "execution_count": 5,
   "metadata": {},
   "outputs": [
    {
     "name": "stdout",
     "output_type": "stream",
     "text": [
      "Biểu đồ QQPlot cho bàn phím Azerty\n"
     ]
    },
    {
     "data": {
      "image/png": "[encoded data removed]",
      "text/plain": [
       "<Figure size 432x288 with 1 Axes>"
      ]
     },
     "metadata": {
      "needs_background": "light"
     },
     "output_type": "display_data"
    },
    {
     "name": "stdout",
     "output_type": "stream",
     "text": [
      "Biểu đồ QQPlot cho bàn phím Qwerty\n"
     ]
    },
    {
     "data": {
      "image/png": "[encoded data removed]",
      "text/plain": [
       "<Figure size 432x288 with 1 Axes>"
      ]
     },
     "metadata": {
      "needs_background": "light"
     },
     "output_type": "display_data"
    },
    {
     "name": "stdout",
     "output_type": "stream",
     "text": [
      "Biểu đồ QQPlot cho hệ thống NO-HELP\n"
     ]
    },
    {
     "data": {
      "image/png": "[encoded data removed]",
      "text/plain": [
       "<Figure size 432x288 with 1 Axes>"
      ]
     },
     "metadata": {
      "needs_background": "light"
     },
     "output_type": "display_data"
    },
    {
     "name": "stdout",
     "output_type": "stream",
     "text": [
      "Biểu đồ QQPlot cho hệ thống AUTO-CORRECTION\n"
     ]
    },
    {
     "data": {
      "image/png": "[encoded data removed]",
      "text/plain": [
       "<Figure size 432x288 with 1 Axes>"
      ]
     },
     "metadata": {
      "needs_background": "light"
     },
     "output_type": "display_data"
    }
   ],
   "source": [
    "import statsmodels.api as sm\n",
    "def DrawChartQQPlot(data, title):\n",
    "    print(\"Biểu đồ QQPlot cho\", title)\n",
    "    fig = sm.qqplot(data,dist=norm,fit=True,line='45')\n",
    "    plt.show()\n",
    "\n",
    "DrawChartQQPlot(data_azerty.wpm, \"bàn phím Azerty\")\n",
    "DrawChartQQPlot(data_qwerty.wpm, \"bàn phím Qwerty\")\n",
    "DrawChartQQPlot(data_nohelp.wpm, \"hệ thống NO-HELP\")\n",
    "DrawChartQQPlot(data_autocorrection.wpm, \"hệ thống AUTO-CORRECTION\")"
   ]
  },
  {
   "cell_type": "markdown",
   "metadata": {},
   "source": [
    "### Nhận xét\n",
    "\n",
    "1. Khi tạo cái BoxPlot cho các phân phối của wpm, chúng ta dễ dàng so sánh và đánh giá các giá trị trung bình, trung vị, các giá trị ngoại vi (outliers) cũng như quá trình tính IQR dựa vào 2 bách phân vị (hinges - 75%(Q3) và 25%(Q1)) bằng công thức: Q3 - Q1. \n",
    "\n",
    "2. Trong các biểu đồ QQPlot trên chúng ta có thể thấy rằng các lượng tử mẫu (Sample Quantiles - các giá trị của dữ liệu, cụ thể là wpm) hoàn toàn khác với các giá trị lý thuyết (Theoretical). Các giá trị của dữ liệu (wpm) lệch không nhiều so với line QQPlot (trừ một vài điểm ngoại lệ).\n"
   ]
  },
  {
   "cell_type": "markdown",
   "metadata": {},
   "source": [
    "\n",
    "## Bước 4. Khoảng tin cậy\n",
    "\n",
    "Giả sử các quần thể có phân bố chuẩn. Viết mã để ước tính `wpm` trung bình cho mỗi hệ thống, cũng như sự khác biệt `wpm` trung bình. Sử dụng khoảng tin cậy 95% để ước tính các giá trị đó. Mã nên bao gồm phần tính toán và cả phần vẽ đồ thị các khoảng tin cậy. Kết luận của bạn là gì? Các kết quả có ủng hộ giả thuyết đầu tiên ($H_1$) của các nhà nghiên cứu không?\n",
    "\n",
    "Tương tự, hãy viết một đoạn mã ước tính `wpm` trung bình cho từng loại bàn phím, cũng như sự khác biệt `wpm` trung bình (độc lập với việc có sử dụng tính năng tự động sửa lỗi hay không). Một lần nữa, hãy sử dụng khoảng tin cậy 95% để ước tính các trung bình đó và bao gồm cả phần tính toán và phần vẽ đồ thị các khoảng tin cậy. Kết luận của bạn bây giờ là gì? Các kết quả có ủng hộ giả thuyết thứ hai ($H_2$) của các nhà nghiên cứu không?"
   ]
  },
  {
   "cell_type": "code",
   "execution_count": 6,
   "metadata": {},
   "outputs": [
    {
     "name": "stdout",
     "output_type": "stream",
     "text": [
      "###THỐNG KÊ ĐỐI VỚI TỪNG HỆ THỐNG###\n",
      "Khoảng tin cậy của hệ thống nohelp\n",
      "(21.022081931180974, 28.327918068819027)\n",
      "Khoảng tin cậy của hệ thống autocorrection\n",
      "(32.40842340328572, 38.697826596714286)\n"
     ]
    },
    {
     "data": {
      "image/png": "[encoded data removed]",
      "text/plain": [
       "<Figure size 360x360 with 1 Axes>"
      ]
     },
     "metadata": {
      "needs_background": "light"
     },
     "output_type": "display_data"
    },
    {
     "name": "stdout",
     "output_type": "stream",
     "text": [
      "###THỐNG KÊ ĐỐI VỚI TỪNG LOẠI BÀN PHÍM RIÊNG LẺ###\n",
      "Khoảng tin cậy của bàn phím azerty\n",
      "(27.613524452188745, 35.12397554781125)\n",
      "Khoảng tin cậy của bàn phím qwerty\n",
      "(24.77919837660279, 32.93955162339721)\n"
     ]
    },
    {
     "data": {
      "image/png": "[encoded data removed]",
      "text/plain": [
       "<Figure size 360x360 with 1 Axes>"
      ]
     },
     "metadata": {
      "needs_background": "light"
     },
     "output_type": "display_data"
    }
   ],
   "source": [
    "# Viết code của bạn ở đây\n",
    "import math\n",
    "confidence_level = 0.95\n",
    "def Uoc_Tinh_TB(data):\n",
    "    kichThuocMau = len(data)                 \n",
    "    trungBinhMau = stat.mean(data)      \n",
    "    doLechChuan = stat.stdev(data)   \n",
    "    # Tính bậc tự do\n",
    "    bacTuDo = kichThuocMau - 1\n",
    "    # Tính t-value \n",
    "    t_value = stats.t.ppf(1 - (1 - confidence_level)/2, bacTuDo)\n",
    "    # Error\n",
    "    sampling_dist_mean_stddev = doLechChuan/math.sqrt(kichThuocMau)\n",
    "    confidence_interval_1 =  trungBinhMau - (t_value*sampling_dist_mean_stddev)\n",
    "    confidence_interval_2 =  trungBinhMau + (t_value*sampling_dist_mean_stddev)\n",
    "    confidence_intervals = (confidence_interval_1, confidence_interval_2)   \n",
    "    print (confidence_intervals)\n",
    "    return sampling_dist_mean_stddev*t_value\n",
    "\n",
    "def Do_thi_khoang_tin_cay(mean_list,error_list,labels):\n",
    "    fig = plt.figure(figsize=(5,5))\n",
    "    plt.errorbar(x=mean_list, y=range(0,len(mean_list)), xerr=error_list, fmt='o', color='k')\n",
    "    plt.yticks([0,1],labels=labels)\n",
    "    plt.grid(linewidth=1)\n",
    "    plt.show()\n",
    "\n",
    "#Đối với từng hệ thống\n",
    "print(\"###THỐNG KÊ ĐỐI VỚI TỪNG HỆ THỐNG###\")\n",
    "print(\"Khoảng tin cậy của hệ thống nohelp\")\n",
    "data_nohelp_error = Uoc_Tinh_TB(data_nohelp.wpm)\n",
    "print(\"Khoảng tin cậy của hệ thống autocorrection\")\n",
    "data_autocorrection_error = Uoc_Tinh_TB(data_autocorrection.wpm)\n",
    "error_list = [data_nohelp_error,data_autocorrection_error]\n",
    "mean_list = [stat.mean(data_nohelp.wpm),stat.mean(data_autocorrection.wpm)]\n",
    "labels = [\"khoảng tin cậy\\n nohelp\",\"khoảng tin cậy\\n autocorrection\"]\n",
    "Do_thi_khoang_tin_cay(mean_list,error_list,labels)\n",
    "\n",
    "#Đối với từng loại phím riêng lẻ\n",
    "print(\"###THỐNG KÊ ĐỐI VỚI TỪNG LOẠI BÀN PHÍM RIÊNG LẺ###\")\n",
    "print(\"Khoảng tin cậy của bàn phím azerty\")\n",
    "data_azerty_error = Uoc_Tinh_TB(data_azerty.wpm)\n",
    "print(\"Khoảng tin cậy của bàn phím qwerty\")\n",
    "data_qwerty_error = Uoc_Tinh_TB(data_qwerty.wpm)\n",
    "\n",
    "error_list = [data_azerty_error,data_qwerty_error]\n",
    "mean_list = [stat.mean(data_azerty.wpm),stat.mean(data_qwerty.wpm)]\n",
    "labels = [\"khoảng tin cậy\\n azerty\",\"khoảng tin cậy\\n qwerty\"]\n",
    "Do_thi_khoang_tin_cay(mean_list,error_list,labels)"
   ]
  },
  {
   "cell_type": "markdown",
   "metadata": {},
   "source": [
    "### Nhận xét và kết luận\n",
    "\n",
    "1. Ta có thể thấy khoảng tin cậy 95% cho tốc độ đánh máy sử dụng hệ thống **AUTO-CORRECTION** lớn hơn **NO HELP**, điều này ủng hộ cho giả thuyết H1: nhập văn bản với tính năng sửa lỗi tự động (**AUTO-CORRECTION**) nhanh hơn so với nhập liệu không có trợ giúp (**NO HELP**)\n",
    "\n",
    "2. Ta có thể thấy khoảng tin cậy 95% cho tốc độ đánh máy sử dụng bàn phím **AZERTY** chỉ nhỉnh hơn **QWERTY** ở phần lower còn phần upper gần như đều nhau, điều này cũng chưa chắc có thể ủng hộ cho giả thuyết H2: gõ bằng bàn phím **AZERTY** nhanh hơn gõ bằng bàn phím **QWERTY**\n",
    "\n"
   ]
  },
  {
   "cell_type": "markdown",
   "metadata": {},
   "source": [
    "\n",
    "## Bước 5. Kiểm định ý nghĩa thống kê\n",
    "\n",
    "Viết một đoạn mã để tiến hành các kiểm định ý nghĩa thống kê thích hợp để kiểm tra hai giả thuyết ($H_1$ và $H_2$). Kết luận của bạn là gì? Kết quả của các phép kiểm định ý nghĩa thống kê có phù hợp với khoảng tin cậy mà bạn đã xây dựng cho Bước 4 không?"
   ]
  },
  {
   "cell_type": "code",
   "execution_count": 9,
   "metadata": {},
   "outputs": [
    {
     "name": "stdout",
     "output_type": "stream",
     "text": [
      "H0: Tốc độ đánh máy giữa hai hệ thống là như nhau\n",
      "H1: Tốc độ đánh máy của hệ thống AUTO-CORRECTION nhanh hơn hệ thống NO HELP\n",
      "Giá trị p tính được là kiểm định hai phía: p = 2.1158441659990277e-05\n",
      "Vì giả thuyết là kiểm định một phía nên giá trị p = p / 2 = 2.1158441659990277e-05 / 2 = 1.0579220829995139e-05\n",
      "Ta có p_value = 1.0579220829995139e-05 < 0.05 ==> Ta bác bỏ H0, chấp nhận H1\n"
     ]
    }
   ],
   "source": [
    "# Quan hệ giữa hai biến C -> Q: hai nhóm độc lập NO HELP và AUTOCORRECTION\n",
    "print(\"H0: Tốc độ đánh máy giữa hai hệ thống là như nhau\")\n",
    "print(\"H1: Tốc độ đánh máy của hệ thống AUTO-CORRECTION nhanh hơn hệ thống NO HELP\")\n",
    "t_stats, p = stats.ttest_ind(data_autocorrection.wpm, data_nohelp.wpm)\n",
    "print(f\"Giá trị p tính được là kiểm định hai phía: p = {p}\")\n",
    "print(f\"Vì giả thuyết là kiểm định một phía nên giá trị p = p / 2 = {p} / 2 = {p/2}\")\n",
    "p = p / 2\n",
    "if (p > 0.05):\n",
    "    print(f\"Ta có p_value = {p} > 0.05 ==> Ta chấp nhận H0\")\n",
    "else:\n",
    "    print(f\"Ta có p_value = {p} < 0.05 ==> Ta bác bỏ H0, chấp nhận H1\")"
   ]
  },
  {
   "cell_type": "code",
   "execution_count": 10,
   "metadata": {},
   "outputs": [
    {
     "name": "stdout",
     "output_type": "stream",
     "text": [
      "H0: Tốc độ đánh máy giữa hai bàn phím là như nhau\n",
      "H2: Tốc độ đánh máy của bàn phím AZERTY nhanh hơn bàn phím QWERTY\n",
      "Giá trị p tính được là kiểm định hai phía: p = 0.35961723596751083\n",
      "Vì giả thuyết là kiểm định một phía nên giá trị p = p / 2 = 0.35961723596751083 / 2 = 0.17980861798375541\n",
      "Ta có p_value = 0.17980861798375541 > 0.05 ==> Ta chấp nhận H0\n"
     ]
    }
   ],
   "source": [
    "# Quan hệ giữa hai biến C -> Q: hai nhóm độc lập AZERTY và QWERTY\n",
    "print(\"H0: Tốc độ đánh máy giữa hai bàn phím là như nhau\")\n",
    "print(\"H2: Tốc độ đánh máy của bàn phím AZERTY nhanh hơn bàn phím QWERTY\")\n",
    "t_stats, p = stats.ttest_ind(data_azerty.wpm, data_qwerty.wpm)\n",
    "print(f\"Giá trị p tính được là kiểm định hai phía: p = {p}\")\n",
    "print(f\"Vì giả thuyết là kiểm định một phía nên giá trị p = p / 2 = {p} / 2 = {p/2}\")\n",
    "p = p / 2\n",
    "if (p > 0.05):\n",
    "    print(f\"Ta có p_value = {p} > 0.05 ==> Ta chấp nhận H0\")\n",
    "else:\n",
    "    print(f\"Ta có p_value = {p} < 0.05 ==> Ta bác bỏ H0, chấp nhận H2\")"
   ]
  },
  {
   "cell_type": "markdown",
   "metadata": {},
   "source": [
    "### Nhận xét và kết luận\n",
    "\n",
    "1. Qua kiểm định với hai hệ thống AUTO-CORRECTION và NO HELP, ta có giả thuyết H1: nhập văn bản với tính năng sửa lỗi tự động (AUTO-CORRECTION) nhanh hơn so với nhập liệu không có trợ giúp (NO HELP) là đúng. Điều này cũng phù hợp với khoảng tin cậy đã xây dựng ở bước 4.\n",
    "\n",
    "2. Qua kiểm định với hai loại bàn phím AZERTY và QWERTY, ta có giả thuyết H2: gõ bằng bàn phím AZERTY nhanh hơn gõ bằng bàn phím QWERTY là chưa đúng. Điều này cũng phù hợp với khoảng tin cậy đã xây dựng ở bước 4.\n",
    "\n"
   ]
  }
 ],
 "metadata": {
  "interpreter": {
   "hash": "1cca9558bc5ad879ec93cc030b157d75f18267527c60932cecaace349eef54dd"
  },
  "kernelspec": {
   "display_name": "Python 3.9.12 ('base')",
   "language": "python",
   "name": "python3"
  },
  "language_info": {
   "codemirror_mode": {
    "name": "ipython",
    "version": 3
   },
   "file_extension": ".py",
   "mimetype": "text/x-python",
   "name": "python",
   "nbconvert_exporter": "python",
   "pygments_lexer": "ipython3",
   "version": "3.9.12"
  },
  "orig_nbformat": 4
 },
 "nbformat": 4,
 "nbformat_minor": 2
}
