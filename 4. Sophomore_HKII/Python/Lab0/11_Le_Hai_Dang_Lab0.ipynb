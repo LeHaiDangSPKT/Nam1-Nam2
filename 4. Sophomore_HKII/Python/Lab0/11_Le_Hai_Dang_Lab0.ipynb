{
 "cells": [
  {
   "cell_type": "markdown",
   "metadata": {},
   "source": [
    "## Bài 1\n",
    "- Cho số nguyên n, tìm số nguyên dương nhỏ nhất chia hết cho tất cả số nguyên từ 1 đến n. \n",
    "\n",
    "- Ví dụ: n = 10 -> 2520 (2520 là số nhỏ nhất chia hết cho tất cả các số nguyên từ 1 đến 10)."
   ]
  },
  {
   "cell_type": "code",
   "execution_count": 3,
   "metadata": {},
   "outputs": [],
   "source": [
    "def UCLN(a, b):\n",
    "    while (b != 0):\n",
    "        tmp = a % b\n",
    "        a = b\n",
    "        b = tmp\n",
    "    return a;\n",
    "\n",
    "def TimSo(n):\n",
    "    t = 1\n",
    "    for i in range(1, n+1):\n",
    "        t = (t*i)/UCLN(t,i)\n",
    "    return int(t)\n"
   ]
  },
  {
   "cell_type": "code",
   "execution_count": 4,
   "metadata": {},
   "outputs": [
    {
     "data": {
      "text/plain": [
       "6"
      ]
     },
     "execution_count": 4,
     "metadata": {},
     "output_type": "execute_result"
    }
   ],
   "source": [
    "TimSo(3)"
   ]
  },
  {
   "cell_type": "code",
   "execution_count": 5,
   "metadata": {},
   "outputs": [
    {
     "data": {
      "text/plain": [
       "2520"
      ]
     },
     "execution_count": 5,
     "metadata": {},
     "output_type": "execute_result"
    }
   ],
   "source": [
    "TimSo(10)"
   ]
  },
  {
   "cell_type": "code",
   "execution_count": 6,
   "metadata": {},
   "outputs": [
    {
     "data": {
      "text/plain": [
       "5342931457063200"
      ]
     },
     "execution_count": 6,
     "metadata": {},
     "output_type": "execute_result"
    }
   ],
   "source": [
    "TimSo(40)"
   ]
  },
  {
   "cell_type": "markdown",
   "metadata": {
    "tags": []
   },
   "source": [
    "## Bài 2a\n",
    "\n",
    "- Viết hàm `moveLeft(lst)` để dịch chuyển các phần tử của danh sách `lst` sang trái một vị trí.\n",
    "\n",
    "- Ví dụ: với `lst = [1, 5, 3, 4, 2]` thì `moveLeft(lst)` trả về `[5, 3, 4, 2, 1]`"
   ]
  },
  {
   "cell_type": "code",
   "execution_count": 7,
   "metadata": {},
   "outputs": [],
   "source": [
    "def moveLeft(lst):\n",
    "    for i in range(0, len(lst) - 1):\n",
    "        lst[i], lst[i+1] = lst[i+1], lst[i]\n",
    "    return lst"
   ]
  },
  {
   "cell_type": "code",
   "execution_count": 8,
   "metadata": {},
   "outputs": [
    {
     "data": {
      "text/plain": [
       "[5, 9, 4, 2, 0]"
      ]
     },
     "execution_count": 8,
     "metadata": {},
     "output_type": "execute_result"
    }
   ],
   "source": [
    "lst = [0, 5, 9, 4, 2]\n",
    "moveLeft(lst)"
   ]
  },
  {
   "cell_type": "code",
   "execution_count": 9,
   "metadata": {},
   "outputs": [
    {
     "data": {
      "text/plain": [
       "[2, 7, 10, 3, 1]"
      ]
     },
     "execution_count": 9,
     "metadata": {},
     "output_type": "execute_result"
    }
   ],
   "source": [
    "lst = [1, 2, 7, 10, 3]\n",
    "moveLeft(lst)"
   ]
  },
  {
   "cell_type": "markdown",
   "metadata": {
    "tags": []
   },
   "source": [
    "## Bài 2b\n",
    "\n",
    "- Viết hàm `moveLeft(lst, k)` để dịch chuyển các phần tử của danh sách lst sang trái `k` vị trí.\n",
    "\n",
    "- Ví dụ: với lst = [1, 5, 3, 4, 2] thì moveLeft(lst, 3) trả về [4, 2, 1, 5, 3]\n"
   ]
  },
  {
   "cell_type": "code",
   "execution_count": 10,
   "metadata": {},
   "outputs": [],
   "source": [
    "def moveLeft(lst, k):\n",
    "    l = len(lst)\n",
    "    lst_new = []\n",
    "    for i in range(0, l):\n",
    "        lst_new.append(lst[k])\n",
    "        k += 1\n",
    "        if (k == l):\n",
    "            k = 0\n",
    "    return lst_new\n",
    "\n",
    "lst = [1, 5, 3, 4, 2]\n"
   ]
  },
  {
   "cell_type": "code",
   "execution_count": 11,
   "metadata": {},
   "outputs": [
    {
     "data": {
      "text/plain": [
       "[4, 2, 1, 5, 3]"
      ]
     },
     "execution_count": 11,
     "metadata": {},
     "output_type": "execute_result"
    }
   ],
   "source": [
    "moveLeft(lst, 3)"
   ]
  },
  {
   "cell_type": "code",
   "execution_count": 12,
   "metadata": {},
   "outputs": [
    {
     "data": {
      "text/plain": [
       "[2, 1, 5, 3, 4]"
      ]
     },
     "execution_count": 12,
     "metadata": {},
     "output_type": "execute_result"
    }
   ],
   "source": [
    "moveLeft(lst, 4)"
   ]
  },
  {
   "cell_type": "code",
   "execution_count": 13,
   "metadata": {},
   "outputs": [
    {
     "data": {
      "text/plain": [
       "[3, 4, 2, 1, 5]"
      ]
     },
     "execution_count": 13,
     "metadata": {},
     "output_type": "execute_result"
    }
   ],
   "source": [
    "moveLeft(lst, 2)"
   ]
  },
  {
   "cell_type": "markdown",
   "metadata": {},
   "source": [
    "## Bài 3\n",
    "\n",
    "- Viết hàm trả về danh sách gồm các thừa số của số nguyên dương `n` khi phân tích thành nó tích của các thừa số nguyên tố. \n",
    "\n",
    "- Ví dụ: nếu `n = 120` thì hàm trả về danh sách [2, 2, 2, 3, 5] vì `120 = 2 ∗ 2 ∗ 2 ∗ 3 ∗ 5`."
   ]
  },
  {
   "cell_type": "code",
   "execution_count": 14,
   "metadata": {},
   "outputs": [],
   "source": [
    "def PhanTichThuaSo(n):\n",
    "    kq = []\n",
    "    i = 2\n",
    "    while (n > 1):\n",
    "        if (n % i == 0):\n",
    "            n /= i\n",
    "            kq.append(i)\n",
    "        else:\n",
    "            i = i + 1\n",
    "    if (len(kq) == 0):\n",
    "        kq.append(n)\n",
    "    return kq"
   ]
  },
  {
   "cell_type": "code",
   "execution_count": 15,
   "metadata": {},
   "outputs": [
    {
     "data": {
      "text/plain": [
       "[2, 5]"
      ]
     },
     "execution_count": 15,
     "metadata": {},
     "output_type": "execute_result"
    }
   ],
   "source": [
    "PhanTichThuaSo(10)"
   ]
  },
  {
   "cell_type": "code",
   "execution_count": 16,
   "metadata": {},
   "outputs": [
    {
     "data": {
      "text/plain": [
       "[2, 2, 5]"
      ]
     },
     "execution_count": 16,
     "metadata": {},
     "output_type": "execute_result"
    }
   ],
   "source": [
    "PhanTichThuaSo(20)"
   ]
  },
  {
   "cell_type": "code",
   "execution_count": 17,
   "metadata": {},
   "outputs": [
    {
     "data": {
      "text/plain": [
       "[2, 5, 5]"
      ]
     },
     "execution_count": 17,
     "metadata": {},
     "output_type": "execute_result"
    }
   ],
   "source": [
    "PhanTichThuaSo(50)"
   ]
  },
  {
   "cell_type": "code",
   "execution_count": 18,
   "metadata": {},
   "outputs": [
    {
     "data": {
      "text/plain": [
       "[2, 43]"
      ]
     },
     "execution_count": 18,
     "metadata": {},
     "output_type": "execute_result"
    }
   ],
   "source": [
    "PhanTichThuaSo(86)"
   ]
  },
  {
   "cell_type": "markdown",
   "metadata": {},
   "source": [
    "## Bài 4\n",
    "- Viết hàm trả về số chữ số 0 của n! = 1 * 2 * 3 * ... * n.\n",
    "\n",
    "- Ví dụ: n = 4 -> 0, n = 5 -> 1, n = 10 -> 2, n = 100 -> 24"
   ]
  },
  {
   "cell_type": "code",
   "execution_count": 19,
   "metadata": {},
   "outputs": [],
   "source": [
    "def SoChuSoKhong(n):\n",
    "    if n == 0:\n",
    "        return 0\n",
    "    flag = 1\n",
    "    d = 0\n",
    "    while 5**flag <= n:\n",
    "        d += n/5**flag\n",
    "        flag += 1    \n",
    "    return int(d)"
   ]
  },
  {
   "cell_type": "code",
   "execution_count": 20,
   "metadata": {},
   "outputs": [
    {
     "data": {
      "text/plain": [
       "0"
      ]
     },
     "execution_count": 20,
     "metadata": {},
     "output_type": "execute_result"
    }
   ],
   "source": [
    "SoChuSoKhong(4)"
   ]
  },
  {
   "cell_type": "code",
   "execution_count": 21,
   "metadata": {},
   "outputs": [
    {
     "data": {
      "text/plain": [
       "1"
      ]
     },
     "execution_count": 21,
     "metadata": {},
     "output_type": "execute_result"
    }
   ],
   "source": [
    "SoChuSoKhong(7)"
   ]
  },
  {
   "cell_type": "code",
   "execution_count": 22,
   "metadata": {},
   "outputs": [
    {
     "data": {
      "text/plain": [
       "2"
      ]
     },
     "execution_count": 22,
     "metadata": {},
     "output_type": "execute_result"
    }
   ],
   "source": [
    "SoChuSoKhong(10)"
   ]
  },
  {
   "cell_type": "code",
   "execution_count": 23,
   "metadata": {},
   "outputs": [
    {
     "data": {
      "text/plain": [
       "24"
      ]
     },
     "execution_count": 23,
     "metadata": {},
     "output_type": "execute_result"
    }
   ],
   "source": [
    "SoChuSoKhong(100)"
   ]
  },
  {
   "cell_type": "markdown",
   "metadata": {},
   "source": [
    "## Bài 5 \n",
    "- Viết hàm `intersect(lst1, lst2)` để tìm phần giao của 2 danh sách lst1 và lst2 (đã đươc sắp xếp tăng dần).\n",
    "\n",
    "- Ví dụ: với ***l1 = [2, 2, 2, 3, 5, 5, 7], l2 = [2, 2, 3, 3, 5, 7, 7, 7]*** thì ***intersect(l1, l2) = [2, 2, 3, 5, 7]***"
   ]
  },
  {
   "cell_type": "code",
   "execution_count": 24,
   "metadata": {},
   "outputs": [],
   "source": [
    "def intersect(lst1, lst2):\n",
    "    lst = []\n",
    "    giao = set(lst1) & set(lst2)\n",
    "    for i in giao:\n",
    "        lst_temp = lst1.count(i) if lst1.count(i) < lst2.count(i) else lst2.count(i)\n",
    "        for j in range(0, lst_temp):\n",
    "            lst.append(i)\n",
    "    return sorted(lst)"
   ]
  },
  {
   "cell_type": "code",
   "execution_count": 25,
   "metadata": {},
   "outputs": [
    {
     "data": {
      "text/plain": [
       "[2, 2, 3, 5, 7, 7]"
      ]
     },
     "execution_count": 25,
     "metadata": {},
     "output_type": "execute_result"
    }
   ],
   "source": [
    "l1 = [2, 2, 2, 3, 5, 5, 7, 7]\n",
    "l2 = [2, 2, 3, 3, 5, 7, 7, 7]\n",
    "intersect(l1, l2)"
   ]
  },
  {
   "cell_type": "code",
   "execution_count": 26,
   "metadata": {},
   "outputs": [
    {
     "data": {
      "text/plain": [
       "[1, 3, 4, 6, 6]"
      ]
     },
     "execution_count": 26,
     "metadata": {},
     "output_type": "execute_result"
    }
   ],
   "source": [
    "l1 = [1, 1, 3, 4, 6, 6, 6]\n",
    "l2 = [1, 2, 3, 3, 4, 6, 6, 7]\n",
    "intersect(l1, l2)"
   ]
  },
  {
   "cell_type": "code",
   "execution_count": 27,
   "metadata": {},
   "outputs": [
    {
     "data": {
      "text/plain": [
       "[2, 2, 3, 9]"
      ]
     },
     "execution_count": 27,
     "metadata": {},
     "output_type": "execute_result"
    }
   ],
   "source": [
    "l1 = [2, 2, 3, 3, 7, 7, 8, 9, 9]\n",
    "l2 = [1, 1, 2, 2, 2, 3, 4, 9]\n",
    "intersect(l1, l2)"
   ]
  },
  {
   "cell_type": "code",
   "execution_count": 28,
   "metadata": {},
   "outputs": [
    {
     "data": {
      "text/plain": [
       "[2, 2, 3, 5, 7]"
      ]
     },
     "execution_count": 28,
     "metadata": {},
     "output_type": "execute_result"
    }
   ],
   "source": [
    "l1 = [2, 2, 2, 3, 5, 5, 7]\n",
    "l2 = [2, 2, 3, 3, 5, 7, 7, 7]\n",
    "intersect(l1, l2)"
   ]
  }
 ],
 "metadata": {
  "kernelspec": {
   "display_name": "Python 3 (ipykernel)",
   "language": "python",
   "name": "python3"
  },
  "language_info": {
   "codemirror_mode": {
    "name": "ipython",
    "version": 3
   },
   "file_extension": ".py",
   "mimetype": "text/x-python",
   "name": "python",
   "nbconvert_exporter": "python",
   "pygments_lexer": "ipython3",
   "version": "3.9.7"
  }
 },
 "nbformat": 4,
 "nbformat_minor": 4
}
