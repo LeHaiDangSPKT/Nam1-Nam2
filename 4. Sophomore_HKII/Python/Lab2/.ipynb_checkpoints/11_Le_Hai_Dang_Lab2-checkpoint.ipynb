{
 "cells": [
  {
   "cell_type": "markdown",
   "metadata": {},
   "source": [
    "# Bài 1 - Opperator Overloading\n",
    "\n",
    "Định nghĩa lớp `Date` để biểu diễn thời gian ngày, tháng, năm trong năm. Lớp này cung cấp một số phương thức sau:\n",
    "\n",
    "- Định nghĩa hàm `__init__(self, day, month, year)` để khởi tạo một đối tượng thời gian với `ngày (day)`, `tháng (month)`, và `năm (year)` cho trước (ta sẽ gọi hàm bằng cách viết `Date(day, month, year)`).\n",
    "\n",
    "- Định nghĩa hàm `__str__(self)` để trả về chuỗi `day/month/year` mô tả một `Date object` (ta sẽ gọi hàm bằng cách viết `print(date)`).\n",
    "\n",
    "- Định nghĩa hàm `__eq__(self, d)` để kiểm tra ngày đang xét có bằng ngày `d`? Ta sẽ gọi hàm bằng cách viết `d1 == d2`)\n",
    "\n",
    "- Định nghĩa hàm `__ne__(self, d)` để kiểm tra ngày đang xét và `d` có khác nhau? Ta sẽ gọi hàm bằng cách viết `d1 != d2`)?\n",
    "\n",
    "- Định nghĩa hàm `__gt__(self, d)` để kiểm tra ngày đang xét có lớn hơn `d`? Ta sẽ gọi hàm bằng cách viết `d1 > d2`.\n",
    "\n",
    "- Định nghĩa hàm `__lt__(self, d)` để kiểm tra ngày đang xét có bé hơn `d`? Ta sẽ gọi hàm bằng cách viết `d1 < d2`.\n",
    "\n",
    "- Định nghĩa hàm `__ge__(self, d)` để kiểm tra ngày đang xét có lớn hơn hoặc bằng `d`.? Ta sẽ gọi hàm bằng cách viết `d1 >= d2`.\n",
    "\n",
    "- Định nghĩa hàm `__le__(self, d)` để kiểm tra ngày đang xét có bé hơn hoặc bằng `d`? Ta sẽ gọi hàm bằng cách viết `d1 <= d2`.\n",
    "\n",
    "- Định nghĩa hàm `dayOfWeek(self)` trả về số nguyên mô tả ngày thứ mấy trong tuần của ngày hiện tại (giả định thứ 2 ứng với 1, thứ 3 ứng với 2, ..., chủ nhật ứng với 7). Ta sẽ gọi hàm bằng cách viết `d.dayOfWeek()`. Ví dụ: giả sử `d = Date(14, 4, 2021)` thì `d.dayOfWeek()` trả về 3, tức là ngày `thứ 4`. Tham khảo công thức tính xác định thứ trong tuần dựa vào ngày/tháng/năm ở https://en.wikipedia.org/wiki/Determination_of_the_day_of_the_week.\n",
    "\n",
    "- (**\\***) Định nghĩa hàm `dayDiff(self, d)` trả về số ngày giữa ngày hiện tại và ngày `d`. Ta sẽ gọi hàm bằng cách viết `d1.dayDiff(d2)`.\n",
    "\n",
    "- (**\\***) Định nghĩa hàm `nextDate(self)` trả về ngày kế sau ngày hiện tại một ngày. Ta sẽ gọi hàm bằng cách viết `d.nextDate()`."
   ]
  },
  {
   "cell_type": "code",
   "execution_count": 33,
   "metadata": {},
   "outputs": [],
   "source": [
    "class Date:\n",
    "    def __init__(self, day, month, year):\n",
    "        self.day = day\n",
    "        self.month = month\n",
    "        self.year = year\n",
    "    def __str__(self):\n",
    "        return f\"{self.day}/{self.month}/{self.year}\"\n",
    "    def __eq__(self, d):\n",
    "        return True if (self.day == d.day and self.month == d.month and self.year == d.year) else False\n",
    "    def __ne__(self, d):\n",
    "        return True if (self.day != d.day or self.month != d.month or self.year != d.year) else False\n",
    "    def __gt__(self, d):\n",
    "        return True if self.year > d.year else False\n",
    "    def __lt__(self, d):\n",
    "        return True if self.year < d.year else False\n",
    "    def __ge__(self, d):\n",
    "        return True if self.year >= d.year else False\n",
    "    def __le__(self, d):\n",
    "        return True if self.year <= d.year else False \n",
    "    \n",
    "    def dayOfWeek(self):\n",
    "        return (self.day + 2*self.month + (3*(self.month+1))//5 + self.year + (self.year//4))%7\n",
    "        #https://daynhauhoc.com/t/tim-thuat-toan-tinh-thu-khi-biet-ngay-thang-nam/11494\n",
    "    \n",
    "    #Cột mốc từ năm 0\n",
    "    def distance(day, month, year):\n",
    "        if (month < 3):\n",
    "            year -= 1\n",
    "            month += 12\n",
    "        return 365*year + year/4 - year/100 + year/400 + (153*month - 457)/5 + day - 306\n",
    "    def dayDiff(self, d):\n",
    "        return round(abs(Date.distance(self.day, self.month, self.year) - Date.distance(d.day, d.month, d.year)))\n",
    "        \n",
    "\n",
    "    def ktNam(nam):\n",
    "        return ((nam % 4 == 0 and nam % 100 != 0) or nam % 400 == 0)\n",
    "    def ktThang(thang, nam):\n",
    "        switcher = {\n",
    "            1: 31,\n",
    "            3: 31,\n",
    "            5: 31,\n",
    "            7: 31,\n",
    "            8: 31,\n",
    "            10: 31,\n",
    "            12: 31,\n",
    "            4: 30,\n",
    "            6: 30,\n",
    "            9: 30,\n",
    "            11: 30,\n",
    "            2: 29 if Date.ktNam(nam) else 28\n",
    "        }\n",
    "        return switcher.get(thang)\n",
    "    def nextDate(self):\n",
    "        d = Date(self.day, self.month, self.year)\n",
    "        kqNgay = self.day + 1\n",
    "        kqThang = Date.ktThang(self.month, self.year)\n",
    "        if (kqNgay > kqThang):\n",
    "            d.day = 1\n",
    "            d.month = self.month + 1\n",
    "            if (d.month > 12):\n",
    "                d.month = 1\n",
    "                d.year = self.year + 1\n",
    "        else: \n",
    "            d.day = kqNgay\n",
    "        \n",
    "        return d\n",
    "\n",
    "            \n",
    "            "
   ]
  },
  {
   "cell_type": "code",
   "execution_count": 15,
   "metadata": {},
   "outputs": [],
   "source": [
    "# Test your class here!\n",
    "d1 = Date(30, 5, 2020)\n",
    "d2 = Date(12, 7, 2021)"
   ]
  },
  {
   "cell_type": "code",
   "execution_count": 4,
   "metadata": {},
   "outputs": [
    {
     "name": "stdout",
     "output_type": "stream",
     "text": [
      "30/5/2020\n"
     ]
    }
   ],
   "source": [
    "print(d1)"
   ]
  },
  {
   "cell_type": "code",
   "execution_count": 5,
   "metadata": {},
   "outputs": [
    {
     "name": "stdout",
     "output_type": "stream",
     "text": [
      "12/7/2021\n"
     ]
    }
   ],
   "source": [
    "print(d2)"
   ]
  },
  {
   "cell_type": "code",
   "execution_count": 6,
   "metadata": {},
   "outputs": [
    {
     "name": "stdout",
     "output_type": "stream",
     "text": [
      "False\n"
     ]
    }
   ],
   "source": [
    "print(d1 == d2)"
   ]
  },
  {
   "cell_type": "code",
   "execution_count": 7,
   "metadata": {},
   "outputs": [
    {
     "name": "stdout",
     "output_type": "stream",
     "text": [
      "True\n"
     ]
    }
   ],
   "source": [
    "print(d1 != d2)"
   ]
  },
  {
   "cell_type": "code",
   "execution_count": 8,
   "metadata": {},
   "outputs": [
    {
     "name": "stdout",
     "output_type": "stream",
     "text": [
      "False\n"
     ]
    }
   ],
   "source": [
    "print(d1 > d2)"
   ]
  },
  {
   "cell_type": "code",
   "execution_count": 9,
   "metadata": {},
   "outputs": [
    {
     "name": "stdout",
     "output_type": "stream",
     "text": [
      "True\n"
     ]
    }
   ],
   "source": [
    "print(d1 < d2)"
   ]
  },
  {
   "cell_type": "code",
   "execution_count": 10,
   "metadata": {},
   "outputs": [
    {
     "name": "stdout",
     "output_type": "stream",
     "text": [
      "False\n"
     ]
    }
   ],
   "source": [
    "print(d1 >= d2)"
   ]
  },
  {
   "cell_type": "code",
   "execution_count": 11,
   "metadata": {},
   "outputs": [
    {
     "name": "stdout",
     "output_type": "stream",
     "text": [
      "True\n"
     ]
    }
   ],
   "source": [
    "print(d1 <= d2)"
   ]
  },
  {
   "cell_type": "code",
   "execution_count": 12,
   "metadata": {},
   "outputs": [
    {
     "name": "stdout",
     "output_type": "stream",
     "text": [
      "0\n"
     ]
    }
   ],
   "source": [
    "d = Date(17, 7, 2022)\n",
    "print(d.dayOfWeek())"
   ]
  },
  {
   "cell_type": "code",
   "execution_count": 25,
   "metadata": {},
   "outputs": [
    {
     "name": "stdout",
     "output_type": "stream",
     "text": [
      "1161\n"
     ]
    }
   ],
   "source": [
    "d1 = Date(3, 1, 2019)\n",
    "d2 = Date(9, 3, 2022)\n",
    "print(d1.dayDiff(d2))"
   ]
  },
  {
   "cell_type": "code",
   "execution_count": 34,
   "metadata": {},
   "outputs": [
    {
     "name": "stdout",
     "output_type": "stream",
     "text": [
      "1/3/2000\n"
     ]
    }
   ],
   "source": [
    "d = Date(29, 2, 2000)\n",
    "print(d.nextDate())"
   ]
  },
  {
   "cell_type": "code",
   "execution_count": 35,
   "metadata": {},
   "outputs": [
    {
     "name": "stdout",
     "output_type": "stream",
     "text": [
      "29/2/2000\n"
     ]
    }
   ],
   "source": [
    "d = Date(28, 2, 2000)\n",
    "print(d.nextDate())"
   ]
  },
  {
   "cell_type": "code",
   "execution_count": 36,
   "metadata": {},
   "outputs": [
    {
     "name": "stdout",
     "output_type": "stream",
     "text": [
      "1/1/2001\n"
     ]
    }
   ],
   "source": [
    "d = Date(31, 12, 2000)\n",
    "print(d.nextDate())"
   ]
  },
  {
   "cell_type": "code",
   "execution_count": 37,
   "metadata": {},
   "outputs": [
    {
     "name": "stdout",
     "output_type": "stream",
     "text": [
      "31/12/2000\n"
     ]
    }
   ],
   "source": [
    "d = Date(30, 12, 2000)\n",
    "print(d.nextDate())"
   ]
  },
  {
   "cell_type": "code",
   "execution_count": 38,
   "metadata": {},
   "outputs": [
    {
     "name": "stdout",
     "output_type": "stream",
     "text": [
      "31/1/2000\n"
     ]
    }
   ],
   "source": [
    "d = Date(30, 1, 2000)\n",
    "print(d.nextDate())"
   ]
  },
  {
   "cell_type": "code",
   "execution_count": 39,
   "metadata": {},
   "outputs": [
    {
     "name": "stdout",
     "output_type": "stream",
     "text": [
      "1/2/2000\n"
     ]
    }
   ],
   "source": [
    "d = Date(31, 1, 2000)\n",
    "print(d.nextDate())"
   ]
  },
  {
   "cell_type": "code",
   "execution_count": 40,
   "metadata": {},
   "outputs": [
    {
     "name": "stdout",
     "output_type": "stream",
     "text": [
      "31/3/2000\n"
     ]
    }
   ],
   "source": [
    "d = Date(30, 3, 2000)\n",
    "print(d.nextDate())"
   ]
  },
  {
   "cell_type": "code",
   "execution_count": 41,
   "metadata": {},
   "outputs": [
    {
     "name": "stdout",
     "output_type": "stream",
     "text": [
      "1/4/2000\n"
     ]
    }
   ],
   "source": [
    "d = Date(31, 3, 2000)\n",
    "print(d.nextDate())"
   ]
  },
  {
   "cell_type": "code",
   "execution_count": 42,
   "metadata": {},
   "outputs": [
    {
     "name": "stdout",
     "output_type": "stream",
     "text": [
      "30/4/2000\n"
     ]
    }
   ],
   "source": [
    "d = Date(29, 4, 2000)\n",
    "print(d.nextDate())"
   ]
  },
  {
   "cell_type": "code",
   "execution_count": 43,
   "metadata": {},
   "outputs": [
    {
     "name": "stdout",
     "output_type": "stream",
     "text": [
      "1/5/2000\n"
     ]
    }
   ],
   "source": [
    "d = Date(30, 4, 2000)\n",
    "print(d.nextDate())"
   ]
  },
  {
   "cell_type": "code",
   "execution_count": 44,
   "metadata": {},
   "outputs": [
    {
     "name": "stdout",
     "output_type": "stream",
     "text": [
      "31/5/2000\n"
     ]
    }
   ],
   "source": [
    "d = Date(30, 5, 2000)\n",
    "print(d.nextDate())"
   ]
  },
  {
   "cell_type": "code",
   "execution_count": 45,
   "metadata": {},
   "outputs": [
    {
     "name": "stdout",
     "output_type": "stream",
     "text": [
      "1/6/2000\n"
     ]
    }
   ],
   "source": [
    "d = Date(31, 5, 2000)\n",
    "print(d.nextDate())"
   ]
  },
  {
   "cell_type": "code",
   "execution_count": 46,
   "metadata": {},
   "outputs": [
    {
     "name": "stdout",
     "output_type": "stream",
     "text": [
      "30/6/2000\n"
     ]
    }
   ],
   "source": [
    "d = Date(29, 6, 2000)\n",
    "print(d.nextDate())"
   ]
  },
  {
   "cell_type": "code",
   "execution_count": 47,
   "metadata": {},
   "outputs": [
    {
     "name": "stdout",
     "output_type": "stream",
     "text": [
      "1/7/2000\n"
     ]
    }
   ],
   "source": [
    "d = Date(30, 6, 2000)\n",
    "print(d.nextDate())"
   ]
  },
  {
   "cell_type": "code",
   "execution_count": 48,
   "metadata": {},
   "outputs": [
    {
     "name": "stdout",
     "output_type": "stream",
     "text": [
      "31/7/2000\n"
     ]
    }
   ],
   "source": [
    "d = Date(30, 7, 2000)\n",
    "print(d.nextDate())"
   ]
  },
  {
   "cell_type": "code",
   "execution_count": 49,
   "metadata": {},
   "outputs": [
    {
     "name": "stdout",
     "output_type": "stream",
     "text": [
      "1/8/2000\n"
     ]
    }
   ],
   "source": [
    "d = Date(31, 7, 2000)\n",
    "print(d.nextDate())"
   ]
  },
  {
   "cell_type": "code",
   "execution_count": 50,
   "metadata": {},
   "outputs": [
    {
     "name": "stdout",
     "output_type": "stream",
     "text": [
      "31/8/2000\n"
     ]
    }
   ],
   "source": [
    "d = Date(30, 8, 2000)\n",
    "print(d.nextDate())"
   ]
  },
  {
   "cell_type": "code",
   "execution_count": 51,
   "metadata": {},
   "outputs": [
    {
     "name": "stdout",
     "output_type": "stream",
     "text": [
      "1/9/2000\n"
     ]
    }
   ],
   "source": [
    "d = Date(31, 8, 2000)\n",
    "print(d.nextDate())"
   ]
  },
  {
   "cell_type": "code",
   "execution_count": 52,
   "metadata": {},
   "outputs": [
    {
     "name": "stdout",
     "output_type": "stream",
     "text": [
      "30/9/2000\n"
     ]
    }
   ],
   "source": [
    "d = Date(29, 9, 2000)\n",
    "print(d.nextDate())"
   ]
  },
  {
   "cell_type": "code",
   "execution_count": 53,
   "metadata": {},
   "outputs": [
    {
     "name": "stdout",
     "output_type": "stream",
     "text": [
      "1/10/2000\n"
     ]
    }
   ],
   "source": [
    "d = Date(30, 9, 2000)\n",
    "print(d.nextDate())"
   ]
  },
  {
   "cell_type": "code",
   "execution_count": 54,
   "metadata": {},
   "outputs": [
    {
     "name": "stdout",
     "output_type": "stream",
     "text": [
      "31/10/2000\n"
     ]
    }
   ],
   "source": [
    "d = Date(30, 10, 2000)\n",
    "print(d.nextDate())"
   ]
  },
  {
   "cell_type": "code",
   "execution_count": 55,
   "metadata": {},
   "outputs": [
    {
     "name": "stdout",
     "output_type": "stream",
     "text": [
      "1/11/2000\n"
     ]
    }
   ],
   "source": [
    "d = Date(31, 10, 2000)\n",
    "print(d.nextDate())"
   ]
  },
  {
   "cell_type": "code",
   "execution_count": 56,
   "metadata": {},
   "outputs": [
    {
     "name": "stdout",
     "output_type": "stream",
     "text": [
      "30/11/2000\n"
     ]
    }
   ],
   "source": [
    "d = Date(29, 11, 2000)\n",
    "print(d.nextDate())"
   ]
  },
  {
   "cell_type": "code",
   "execution_count": 57,
   "metadata": {},
   "outputs": [
    {
     "name": "stdout",
     "output_type": "stream",
     "text": [
      "1/12/2000\n"
     ]
    }
   ],
   "source": [
    "d = Date(30, 11, 2000)\n",
    "print(d.nextDate())"
   ]
  },
  {
   "cell_type": "markdown",
   "metadata": {},
   "source": [
    "# Bài 2 - Inheriance\n",
    "\n",
    "- Tạo lớp `Automobile` gồm các thuộc tính sau:\n",
    "\n",
    "    - `__make`: hãng sản xuất\n",
    "    \n",
    "    - `__year`: năm sản xuất\n",
    "    \n",
    "    - `__mileage`: số mile đi được trên một đơn vị nhiên liệu\n",
    "\n",
    "    - `__price`: giá tiền\n",
    "\n",
    "- Định nghĩa phương thức `__init__` để khởi tạo các thuộc tính trên.\n",
    "\n",
    "- Định nghĩa phương thức `__str__` để trả về chuỗi gồm các thuộc tính trên để cung cấp thông tin về một `automobile` cụ thể.\n",
    "\n",
    "- Tạo các lớp `Car`, `Truck`, `SUV` kế thừa lớp `Automobile`. Trong đó:\n",
    "\n",
    "    - Lớp `Car` bổ sung thêm thuộc tính `__doors` (số cửa sổ)\n",
    "\n",
    "    - Lớp `Truck` bổ sung thêm thuộc tính `__drive_type` (loại)\n",
    "\n",
    "    - Lớp `SUV` bổ sung thêm thuộc tính `__pass_cap` (sức chứa)\n",
    "\n",
    "- Định nghĩa phương thức `__init__` tương ứng cho các lớp `Car`, `Truck`, `SUV`. Phương thức này nên gọi đến phương thức `__init__` của lớp `Automobile`.\n",
    "\n",
    "- Định nghĩa các phương thức `__str__` để trả về chuỗi gồm các thuộc tính tương ứng để cung cấp thông tin về một `Car`, `Truck`, và `SUV` cụ thể.\n",
    "\n",
    "- Tạo một vài `object` của các lớp `Automobile`, `Car`, `Truck`, và `SUV` với các thuộc tính cụ thể.\n",
    "\n",
    "- Sử dụng các `property` với `decorator` syntax để truy xuất và gán giá trị cho các thuộc tính của các `object` đã tạo. In các thông tin này ra màn hình.\n",
    "\n",
    "Class Diagram cho các lớp được mô tả ở hình sau:\n",
    "\n",
    "![Automobile Class Diagram](./image/AutomobileClassDiagram.PNG)"
   ]
  },
  {
   "cell_type": "code",
   "execution_count": null,
   "metadata": {},
   "outputs": [],
   "source": [
    "# write your code here\n"
   ]
  },
  {
   "cell_type": "code",
   "execution_count": null,
   "metadata": {},
   "outputs": [],
   "source": [
    "# test your code here\n"
   ]
  },
  {
   "cell_type": "markdown",
   "metadata": {},
   "source": [
    "# Bài 3 - Polymorphism\n",
    "\n",
    "- Tạo lớp `Animal` gồm thuộc tính  `__species` (loài).\n",
    "\n",
    "- Định nghĩa phương thức `__init__` cho lớp `Animal` để khởi tạo thuộc tính này.\n",
    "\n",
    "- Định nghĩa phương thức `__str__` để trả về chuỗi gồm thuộc tính trên để cung cấp thông tin về một `animal` cụ thể.\n",
    "\n",
    "- Định nghĩa phương thức `speak` để trả về chuỗi mô tả tiếng kêu của một `animal` cụ thể.\n",
    "\n",
    "- Tạo các lớp `Dog`, `Cat`, `Bird`, `Fish` kế thừa lớp `Animal`. Overide lại các phương thức `__init__`, `__str__`, và `speak` một cách phù hợp.\n",
    "\n",
    "- Tạo một danh sách các `object` của các lớp `Animal`, `Dog`, `Cat`, `Bird` và `Fish` với các giá trị thuộc tính cụ thể.\n",
    "\n",
    "- Duyệt qua danh sách để in ra thông tin của các động vật và tiếng kêu của chúng."
   ]
  },
  {
   "cell_type": "code",
   "execution_count": null,
   "metadata": {},
   "outputs": [],
   "source": [
    "# write your code here\n"
   ]
  },
  {
   "cell_type": "code",
   "execution_count": null,
   "metadata": {},
   "outputs": [],
   "source": [
    "# test your code here\n"
   ]
  }
 ],
 "metadata": {
  "kernelspec": {
   "display_name": "Python 3",
   "language": "python",
   "name": "python3"
  },
  "language_info": {
   "codemirror_mode": {
    "name": "ipython",
    "version": 3
   },
   "file_extension": ".py",
   "mimetype": "text/x-python",
   "name": "python",
   "nbconvert_exporter": "python",
   "pygments_lexer": "ipython3",
   "version": "3.10.2"
  },
  "metadata": {
   "interpreter": {
    "hash": "e404b59586357c814bc0d3940e75d6763c00a48753b225b81f7716971b8e1741"
   }
  }
 },
 "nbformat": 4,
 "nbformat_minor": 4
}
