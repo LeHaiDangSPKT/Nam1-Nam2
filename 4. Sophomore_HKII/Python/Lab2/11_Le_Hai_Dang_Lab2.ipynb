{
 "cells": [
  {
   "cell_type": "markdown",
   "metadata": {},
   "source": [
    "# Bài 1 - Opperator Overloading\n",
    "\n",
    "Định nghĩa lớp `Date` để biểu diễn thời gian ngày, tháng, năm trong năm. Lớp này cung cấp một số phương thức sau:\n",
    "\n",
    "- Định nghĩa hàm `__init__(self, day, month, year)` để khởi tạo một đối tượng thời gian với `ngày (day)`, `tháng (month)`, và `năm (year)` cho trước (ta sẽ gọi hàm bằng cách viết `Date(day, month, year)`).\n",
    "\n",
    "- Định nghĩa hàm `__str__(self)` để trả về chuỗi `day/month/year` mô tả một `Date object` (ta sẽ gọi hàm bằng cách viết `print(date)`).\n",
    "\n",
    "- Định nghĩa hàm `__eq__(self, d)` để kiểm tra ngày đang xét có bằng ngày `d`? Ta sẽ gọi hàm bằng cách viết `d1 == d2`)\n",
    "\n",
    "- Định nghĩa hàm `__ne__(self, d)` để kiểm tra ngày đang xét và `d` có khác nhau? Ta sẽ gọi hàm bằng cách viết `d1 != d2`)?\n",
    "\n",
    "- Định nghĩa hàm `__gt__(self, d)` để kiểm tra ngày đang xét có lớn hơn `d`? Ta sẽ gọi hàm bằng cách viết `d1 > d2`.\n",
    "\n",
    "- Định nghĩa hàm `__lt__(self, d)` để kiểm tra ngày đang xét có bé hơn `d`? Ta sẽ gọi hàm bằng cách viết `d1 < d2`.\n",
    "\n",
    "- Định nghĩa hàm `__ge__(self, d)` để kiểm tra ngày đang xét có lớn hơn hoặc bằng `d`.? Ta sẽ gọi hàm bằng cách viết `d1 >= d2`.\n",
    "\n",
    "- Định nghĩa hàm `__le__(self, d)` để kiểm tra ngày đang xét có bé hơn hoặc bằng `d`? Ta sẽ gọi hàm bằng cách viết `d1 <= d2`.\n",
    "\n",
    "- Định nghĩa hàm `dayOfWeek(self)` trả về số nguyên mô tả ngày thứ mấy trong tuần của ngày hiện tại (giả định thứ 2 ứng với 1, thứ 3 ứng với 2, ..., chủ nhật ứng với 7). Ta sẽ gọi hàm bằng cách viết `d.dayOfWeek()`. Ví dụ: giả sử `d = Date(14, 4, 2021)` thì `d.dayOfWeek()` trả về 3, tức là ngày `thứ 4`. Tham khảo công thức tính xác định thứ trong tuần dựa vào ngày/tháng/năm ở https://en.wikipedia.org/wiki/Determination_of_the_day_of_the_week.\n",
    "\n",
    "- (**\\***) Định nghĩa hàm `dayDiff(self, d)` trả về số ngày giữa ngày hiện tại và ngày `d`. Ta sẽ gọi hàm bằng cách viết `d1.dayDiff(d2)`.\n",
    "\n",
    "- (**\\***) Định nghĩa hàm `nextDate(self)` trả về ngày kế sau ngày hiện tại một ngày. Ta sẽ gọi hàm bằng cách viết `d.nextDate()`."
   ]
  },
  {
   "cell_type": "code",
   "execution_count": 1,
   "metadata": {},
   "outputs": [],
   "source": [
    "class Date:\n",
    "    def __init__(self, day, month, year):\n",
    "        self.day = day\n",
    "        self.month = month\n",
    "        self.year = year\n",
    "    def __str__(self):\n",
    "        return f\"{self.day}/{self.month}/{self.year}\"\n",
    "    def __eq__(self, d):\n",
    "        return True if (self.day == d.day and self.month == d.month and self.year == d.year) else False\n",
    "    def __ne__(self, d):\n",
    "        return True if (self.day != d.day or self.month != d.month or self.year != d.year) else False\n",
    "    def __gt__(self, d):\n",
    "        return True if self.year > d.year else False\n",
    "    def __lt__(self, d):\n",
    "        return True if self.year < d.year else False\n",
    "    def __ge__(self, d):\n",
    "        return True if self.year >= d.year else False\n",
    "    def __le__(self, d):\n",
    "        return True if self.year <= d.year else False \n",
    "    \n",
    "    def dayOfWeek(self):\n",
    "        return (self.day + 2*self.month + (3*(self.month+1))//5 + self.year + (self.year//4))%7\n",
    "        #https://daynhauhoc.com/t/tim-thuat-toan-tinh-thu-khi-biet-ngay-thang-nam/11494\n",
    "    \n",
    "    #Cột mốc từ năm 0\n",
    "    def distance(day, month, year):\n",
    "        if (month < 3):\n",
    "            year -= 1\n",
    "            month += 12\n",
    "        return 365*year + year/4 - year/100 + year/400 + (153*month - 457)/5 + day - 306\n",
    "    def dayDiff(self, d):\n",
    "        return round(abs(Date.distance(self.day, self.month, self.year) - Date.distance(d.day, d.month, d.year)))\n",
    "        \n",
    "\n",
    "    def ktNam(nam):\n",
    "        return ((nam % 4 == 0 and nam % 100 != 0) or nam % 400 == 0)\n",
    "    def ktThang(thang, nam):\n",
    "        switcher = {\n",
    "            1: 31,\n",
    "            3: 31,\n",
    "            5: 31,\n",
    "            7: 31,\n",
    "            8: 31,\n",
    "            10: 31,\n",
    "            12: 31,\n",
    "            4: 30,\n",
    "            6: 30,\n",
    "            9: 30,\n",
    "            11: 30,\n",
    "            2: 29 if Date.ktNam(nam) else 28\n",
    "        }\n",
    "        return switcher.get(thang)\n",
    "    def nextDate(self):\n",
    "        d = Date(self.day, self.month, self.year)\n",
    "        kqNgay = self.day + 1\n",
    "        kqThang = Date.ktThang(self.month, self.year)\n",
    "        if (kqNgay > kqThang):\n",
    "            d.day = 1\n",
    "            d.month = self.month + 1\n",
    "            if (d.month > 12):\n",
    "                d.month = 1\n",
    "                d.year = self.year + 1\n",
    "        else: \n",
    "            d.day = kqNgay\n",
    "        \n",
    "        return d\n",
    "\n",
    "            \n",
    "            "
   ]
  },
  {
   "cell_type": "code",
   "execution_count": 2,
   "metadata": {},
   "outputs": [],
   "source": [
    "# Test your class here!\n",
    "d1 = Date(30, 5, 2020)\n",
    "d2 = Date(12, 7, 2021)"
   ]
  },
  {
   "cell_type": "code",
   "execution_count": 3,
   "metadata": {},
   "outputs": [
    {
     "name": "stdout",
     "output_type": "stream",
     "text": [
      "30/5/2020\n"
     ]
    }
   ],
   "source": [
    "print(d1)"
   ]
  },
  {
   "cell_type": "code",
   "execution_count": 4,
   "metadata": {},
   "outputs": [
    {
     "name": "stdout",
     "output_type": "stream",
     "text": [
      "12/7/2021\n"
     ]
    }
   ],
   "source": [
    "print(d2)"
   ]
  },
  {
   "cell_type": "code",
   "execution_count": 5,
   "metadata": {},
   "outputs": [
    {
     "name": "stdout",
     "output_type": "stream",
     "text": [
      "False\n"
     ]
    }
   ],
   "source": [
    "print(d1 == d2)"
   ]
  },
  {
   "cell_type": "code",
   "execution_count": 6,
   "metadata": {},
   "outputs": [
    {
     "name": "stdout",
     "output_type": "stream",
     "text": [
      "True\n"
     ]
    }
   ],
   "source": [
    "print(d1 != d2)"
   ]
  },
  {
   "cell_type": "code",
   "execution_count": 7,
   "metadata": {},
   "outputs": [
    {
     "name": "stdout",
     "output_type": "stream",
     "text": [
      "False\n"
     ]
    }
   ],
   "source": [
    "print(d1 > d2)"
   ]
  },
  {
   "cell_type": "code",
   "execution_count": 8,
   "metadata": {},
   "outputs": [
    {
     "name": "stdout",
     "output_type": "stream",
     "text": [
      "True\n"
     ]
    }
   ],
   "source": [
    "print(d1 < d2)"
   ]
  },
  {
   "cell_type": "code",
   "execution_count": 9,
   "metadata": {},
   "outputs": [
    {
     "name": "stdout",
     "output_type": "stream",
     "text": [
      "False\n"
     ]
    }
   ],
   "source": [
    "print(d1 >= d2)"
   ]
  },
  {
   "cell_type": "code",
   "execution_count": 10,
   "metadata": {},
   "outputs": [
    {
     "name": "stdout",
     "output_type": "stream",
     "text": [
      "True\n"
     ]
    }
   ],
   "source": [
    "print(d1 <= d2)"
   ]
  },
  {
   "cell_type": "code",
   "execution_count": 11,
   "metadata": {},
   "outputs": [
    {
     "name": "stdout",
     "output_type": "stream",
     "text": [
      "0\n"
     ]
    }
   ],
   "source": [
    "d = Date(17, 7, 2022)\n",
    "print(d.dayOfWeek())"
   ]
  },
  {
   "cell_type": "code",
   "execution_count": 12,
   "metadata": {},
   "outputs": [
    {
     "name": "stdout",
     "output_type": "stream",
     "text": [
      "1161\n"
     ]
    }
   ],
   "source": [
    "d1 = Date(3, 1, 2019)\n",
    "d2 = Date(9, 3, 2022)\n",
    "print(d1.dayDiff(d2))"
   ]
  },
  {
   "cell_type": "code",
   "execution_count": 13,
   "metadata": {},
   "outputs": [
    {
     "name": "stdout",
     "output_type": "stream",
     "text": [
      "1/3/2000\n"
     ]
    }
   ],
   "source": [
    "d = Date(29, 2, 2000)\n",
    "print(d.nextDate())"
   ]
  },
  {
   "cell_type": "code",
   "execution_count": 14,
   "metadata": {},
   "outputs": [
    {
     "name": "stdout",
     "output_type": "stream",
     "text": [
      "29/2/2000\n"
     ]
    }
   ],
   "source": [
    "d = Date(28, 2, 2000)\n",
    "print(d.nextDate())"
   ]
  },
  {
   "cell_type": "code",
   "execution_count": 15,
   "metadata": {},
   "outputs": [
    {
     "name": "stdout",
     "output_type": "stream",
     "text": [
      "1/1/2001\n"
     ]
    }
   ],
   "source": [
    "d = Date(31, 12, 2000)\n",
    "print(d.nextDate())"
   ]
  },
  {
   "cell_type": "code",
   "execution_count": 16,
   "metadata": {},
   "outputs": [
    {
     "name": "stdout",
     "output_type": "stream",
     "text": [
      "31/12/2000\n"
     ]
    }
   ],
   "source": [
    "d = Date(30, 12, 2000)\n",
    "print(d.nextDate())"
   ]
  },
  {
   "cell_type": "code",
   "execution_count": 17,
   "metadata": {},
   "outputs": [
    {
     "name": "stdout",
     "output_type": "stream",
     "text": [
      "31/1/2000\n"
     ]
    }
   ],
   "source": [
    "d = Date(30, 1, 2000)\n",
    "print(d.nextDate())"
   ]
  },
  {
   "cell_type": "code",
   "execution_count": 18,
   "metadata": {},
   "outputs": [
    {
     "name": "stdout",
     "output_type": "stream",
     "text": [
      "1/2/2000\n"
     ]
    }
   ],
   "source": [
    "d = Date(31, 1, 2000)\n",
    "print(d.nextDate())"
   ]
  },
  {
   "cell_type": "code",
   "execution_count": 19,
   "metadata": {},
   "outputs": [
    {
     "name": "stdout",
     "output_type": "stream",
     "text": [
      "31/3/2000\n"
     ]
    }
   ],
   "source": [
    "d = Date(30, 3, 2000)\n",
    "print(d.nextDate())"
   ]
  },
  {
   "cell_type": "code",
   "execution_count": 20,
   "metadata": {},
   "outputs": [
    {
     "name": "stdout",
     "output_type": "stream",
     "text": [
      "1/4/2000\n"
     ]
    }
   ],
   "source": [
    "d = Date(31, 3, 2000)\n",
    "print(d.nextDate())"
   ]
  },
  {
   "cell_type": "code",
   "execution_count": 21,
   "metadata": {},
   "outputs": [
    {
     "name": "stdout",
     "output_type": "stream",
     "text": [
      "30/4/2000\n"
     ]
    }
   ],
   "source": [
    "d = Date(29, 4, 2000)\n",
    "print(d.nextDate())"
   ]
  },
  {
   "cell_type": "code",
   "execution_count": 22,
   "metadata": {},
   "outputs": [
    {
     "name": "stdout",
     "output_type": "stream",
     "text": [
      "1/5/2000\n"
     ]
    }
   ],
   "source": [
    "d = Date(30, 4, 2000)\n",
    "print(d.nextDate())"
   ]
  },
  {
   "cell_type": "code",
   "execution_count": 23,
   "metadata": {},
   "outputs": [
    {
     "name": "stdout",
     "output_type": "stream",
     "text": [
      "31/5/2000\n"
     ]
    }
   ],
   "source": [
    "d = Date(30, 5, 2000)\n",
    "print(d.nextDate())"
   ]
  },
  {
   "cell_type": "code",
   "execution_count": 24,
   "metadata": {},
   "outputs": [
    {
     "name": "stdout",
     "output_type": "stream",
     "text": [
      "1/6/2000\n"
     ]
    }
   ],
   "source": [
    "d = Date(31, 5, 2000)\n",
    "print(d.nextDate())"
   ]
  },
  {
   "cell_type": "code",
   "execution_count": 25,
   "metadata": {},
   "outputs": [
    {
     "name": "stdout",
     "output_type": "stream",
     "text": [
      "30/6/2000\n"
     ]
    }
   ],
   "source": [
    "d = Date(29, 6, 2000)\n",
    "print(d.nextDate())"
   ]
  },
  {
   "cell_type": "code",
   "execution_count": 26,
   "metadata": {},
   "outputs": [
    {
     "name": "stdout",
     "output_type": "stream",
     "text": [
      "1/7/2000\n"
     ]
    }
   ],
   "source": [
    "d = Date(30, 6, 2000)\n",
    "print(d.nextDate())"
   ]
  },
  {
   "cell_type": "code",
   "execution_count": 27,
   "metadata": {},
   "outputs": [
    {
     "name": "stdout",
     "output_type": "stream",
     "text": [
      "31/7/2000\n"
     ]
    }
   ],
   "source": [
    "d = Date(30, 7, 2000)\n",
    "print(d.nextDate())"
   ]
  },
  {
   "cell_type": "code",
   "execution_count": 28,
   "metadata": {},
   "outputs": [
    {
     "name": "stdout",
     "output_type": "stream",
     "text": [
      "1/8/2000\n"
     ]
    }
   ],
   "source": [
    "d = Date(31, 7, 2000)\n",
    "print(d.nextDate())"
   ]
  },
  {
   "cell_type": "code",
   "execution_count": 29,
   "metadata": {},
   "outputs": [
    {
     "name": "stdout",
     "output_type": "stream",
     "text": [
      "31/8/2000\n"
     ]
    }
   ],
   "source": [
    "d = Date(30, 8, 2000)\n",
    "print(d.nextDate())"
   ]
  },
  {
   "cell_type": "code",
   "execution_count": 30,
   "metadata": {},
   "outputs": [
    {
     "name": "stdout",
     "output_type": "stream",
     "text": [
      "1/9/2000\n"
     ]
    }
   ],
   "source": [
    "d = Date(31, 8, 2000)\n",
    "print(d.nextDate())"
   ]
  },
  {
   "cell_type": "code",
   "execution_count": 31,
   "metadata": {},
   "outputs": [
    {
     "name": "stdout",
     "output_type": "stream",
     "text": [
      "30/9/2000\n"
     ]
    }
   ],
   "source": [
    "d = Date(29, 9, 2000)\n",
    "print(d.nextDate())"
   ]
  },
  {
   "cell_type": "code",
   "execution_count": 32,
   "metadata": {},
   "outputs": [
    {
     "name": "stdout",
     "output_type": "stream",
     "text": [
      "1/10/2000\n"
     ]
    }
   ],
   "source": [
    "d = Date(30, 9, 2000)\n",
    "print(d.nextDate())"
   ]
  },
  {
   "cell_type": "code",
   "execution_count": 33,
   "metadata": {},
   "outputs": [
    {
     "name": "stdout",
     "output_type": "stream",
     "text": [
      "31/10/2000\n"
     ]
    }
   ],
   "source": [
    "d = Date(30, 10, 2000)\n",
    "print(d.nextDate())"
   ]
  },
  {
   "cell_type": "code",
   "execution_count": 34,
   "metadata": {},
   "outputs": [
    {
     "name": "stdout",
     "output_type": "stream",
     "text": [
      "1/11/2000\n"
     ]
    }
   ],
   "source": [
    "d = Date(31, 10, 2000)\n",
    "print(d.nextDate())"
   ]
  },
  {
   "cell_type": "code",
   "execution_count": 35,
   "metadata": {},
   "outputs": [
    {
     "name": "stdout",
     "output_type": "stream",
     "text": [
      "30/11/2000\n"
     ]
    }
   ],
   "source": [
    "d = Date(29, 11, 2000)\n",
    "print(d.nextDate())"
   ]
  },
  {
   "cell_type": "code",
   "execution_count": 36,
   "metadata": {},
   "outputs": [
    {
     "name": "stdout",
     "output_type": "stream",
     "text": [
      "1/12/2000\n"
     ]
    }
   ],
   "source": [
    "d = Date(30, 11, 2000)\n",
    "print(d.nextDate())"
   ]
  },
  {
   "cell_type": "markdown",
   "metadata": {},
   "source": [
    "# Bài 2 - Inheriance\n",
    "\n",
    "- Tạo lớp `Automobile` gồm các thuộc tính sau:\n",
    "\n",
    "    - `__make`: hãng sản xuất\n",
    "    \n",
    "    - `__year`: năm sản xuất\n",
    "    \n",
    "    - `__mileage`: số mile đi được trên một đơn vị nhiên liệu\n",
    "\n",
    "    - `__price`: giá tiền\n",
    "\n",
    "- Định nghĩa phương thức `__init__` để khởi tạo các thuộc tính trên.\n",
    "\n",
    "- Định nghĩa phương thức `__str__` để trả về chuỗi gồm các thuộc tính trên để cung cấp thông tin về một `automobile` cụ thể.\n",
    "\n",
    "- Tạo các lớp `Car`, `Truck`, `SUV` kế thừa lớp `Automobile`. Trong đó:\n",
    "\n",
    "    - Lớp `Car` bổ sung thêm thuộc tính `__doors` (số cửa sổ)\n",
    "\n",
    "    - Lớp `Truck` bổ sung thêm thuộc tính `__drive_type` (loại)\n",
    "\n",
    "    - Lớp `SUV` bổ sung thêm thuộc tính `__pass_cap` (sức chứa)\n",
    "\n",
    "- Định nghĩa phương thức `__init__` tương ứng cho các lớp `Car`, `Truck`, `SUV`. Phương thức này nên gọi đến phương thức `__init__` của lớp `Automobile`.\n",
    "\n",
    "- Định nghĩa các phương thức `__str__` để trả về chuỗi gồm các thuộc tính tương ứng để cung cấp thông tin về một `Car`, `Truck`, và `SUV` cụ thể.\n",
    "\n",
    "- Tạo một vài `object` của các lớp `Automobile`, `Car`, `Truck`, và `SUV` với các thuộc tính cụ thể.\n",
    "\n",
    "- Sử dụng các `property` với `decorator` syntax để truy xuất và gán giá trị cho các thuộc tính của các `object` đã tạo. In các thông tin này ra màn hình.\n",
    "\n",
    "Class Diagram cho các lớp được mô tả ở hình sau:\n",
    "\n",
    "![Automobile Class Diagram](./image/AutomobileClassDiagram.PNG)"
   ]
  },
  {
   "cell_type": "code",
   "execution_count": 37,
   "metadata": {},
   "outputs": [],
   "source": [
    "class Automobile:\n",
    "    def __init__(self, make, year, mileage, price):\n",
    "        self.__make = make\n",
    "        self.__year = year\n",
    "        self.__mileage = mileage\n",
    "        self.__price = price\n",
    "    def __str__(self):\n",
    "        return f\"Hãng sản xuất: {self._Automobile__make}\\nNăm sản xuất: {self._Automobile__year}\\nSố mile đi được trên một đơn vị nhiên liệu: {self._Automobile__mileage}\\nGiá tiền: {self._Automobile__price}\"\n",
    "\n",
    "    # Getter + Setter ---> Make\n",
    "    @property\n",
    "    def make(self):\n",
    "        return self.__make\n",
    "    @make.setter\n",
    "    def make(self, make):\n",
    "        self.__make = make\n",
    "\n",
    "    # Getter + Setter ---> Year\n",
    "    @property\n",
    "    def year(self):\n",
    "        return self.__year\n",
    "    @year.setter\n",
    "    def year(self, year):\n",
    "        self.__year = year\n",
    "\n",
    "    # Getter + Setter ---> Mileage\n",
    "    @property\n",
    "    def mileage(self):\n",
    "        return self.__mileage\n",
    "    @mileage.setter\n",
    "    def mileage(self, mileage):\n",
    "        self.__mileage = mileage\n",
    "    \n",
    "    # Getter + Setter ---> price\n",
    "    @property\n",
    "    def price(self):\n",
    "        return self.__price\n",
    "    @price.setter\n",
    "    def price(self, price):\n",
    "        self.__price = price\n",
    "\n",
    "class Car(Automobile):\n",
    "    def __init__(self, make, year, mileage, price, doors):\n",
    "        super().__init__(make, year, mileage, price)\n",
    "        self.__doors = doors\n",
    "    def __str__(self):\n",
    "        return super().__str__() + f\"\\nSố của sổ: {self._Car__doors}\"\n",
    "\n",
    "    # Getter + Setter ---> doors\n",
    "    @property\n",
    "    def doors(self):\n",
    "        return self.__doors\n",
    "    @doors.setter\n",
    "    def doors(self, doors):\n",
    "        self.__doors = doors\n",
    "\n",
    "class Truck(Automobile):\n",
    "    def __init__(self, make, year, mileage, price, drive_type):\n",
    "        super().__init__(make, year, mileage, price)\n",
    "        self.__drive_type = drive_type\n",
    "    def __str__(self):\n",
    "        return super().__str__() + f\"\\nLoại: {self._Truck__drive_type}\"\n",
    "    \n",
    "    #Getter + Setter ---> drive_type\n",
    "    @property\n",
    "    def drive_type(self):\n",
    "        return self.__drive_type\n",
    "    @drive_type.setter\n",
    "    def drive_type(self, drive_type):\n",
    "        self.__drive_type = drive_type\n",
    "\n",
    "class SUV(Automobile):\n",
    "    def __init__(self, make, year, mileage, price, pass_cap):\n",
    "        super().__init__(make, year, mileage, price)\n",
    "        self.__pass_cap = pass_cap\n",
    "    def __str__(self):\n",
    "        return super().__str__() + f\"\\nSức chứa: {self._SUV__pass_cap}\"\n",
    "\n",
    "    #Getter + Setter ---> pass_cap\n",
    "    @property\n",
    "    def pass_cap(self):\n",
    "        return self.__pass_cap\n",
    "    @pass_cap.setter\n",
    "    def pass_cap(self, pass_cap):\n",
    "        self.__pass_cap = pass_cap\n"
   ]
  },
  {
   "cell_type": "code",
   "execution_count": 38,
   "metadata": {},
   "outputs": [],
   "source": [
    "automobile = Automobile(\"A\", 2011, 50, 200000)\n",
    "car = Car(\"B\", 2012, 55, 300000, 4)\n",
    "truck = Truck(\"C\", 2013, 60, 400000, \"Vận chuyển hàng hóa\")\n",
    "suv = SUV(\"D\", 2014, 65, 500000, 200)"
   ]
  },
  {
   "cell_type": "code",
   "execution_count": 39,
   "metadata": {},
   "outputs": [
    {
     "name": "stdout",
     "output_type": "stream",
     "text": [
      "E\n",
      "2015\n",
      "70\n",
      "600000\n"
     ]
    }
   ],
   "source": [
    "automobile.make = \"E\"\n",
    "automobile.year = 2015\n",
    "automobile.mileage = 70\n",
    "automobile.price = 600000\n",
    "\n",
    "print(automobile.make)\n",
    "print(automobile.year)\n",
    "print(automobile.mileage)\n",
    "print(automobile.price)\n",
    "\n"
   ]
  },
  {
   "cell_type": "code",
   "execution_count": 40,
   "metadata": {},
   "outputs": [
    {
     "name": "stdout",
     "output_type": "stream",
     "text": [
      "F\n",
      "2016\n",
      "75\n",
      "700000\n",
      "6\n"
     ]
    }
   ],
   "source": [
    "car.make = \"F\"\n",
    "car.year = 2016\n",
    "car.mileage = 75\n",
    "car.price = 700000\n",
    "car.doors = 6\n",
    "\n",
    "print(car.make)\n",
    "print(car.year)\n",
    "print(car.mileage)\n",
    "print(car.price)\n",
    "print(car.doors)"
   ]
  },
  {
   "cell_type": "code",
   "execution_count": 41,
   "metadata": {},
   "outputs": [
    {
     "name": "stdout",
     "output_type": "stream",
     "text": [
      "G\n",
      "2017\n",
      "80\n",
      "800000\n",
      "Vận chuyển hành khách\n"
     ]
    }
   ],
   "source": [
    "truck.make = \"G\"\n",
    "truck.year = 2017\n",
    "truck.mileage = 80\n",
    "truck.price = 800000\n",
    "truck.drive_type = \"Vận chuyển hành khách\"\n",
    "\n",
    "print(truck.make)\n",
    "print(truck.year)\n",
    "print(truck.mileage)\n",
    "print(truck.price)\n",
    "print(truck.drive_type)"
   ]
  },
  {
   "cell_type": "code",
   "execution_count": 42,
   "metadata": {},
   "outputs": [
    {
     "name": "stdout",
     "output_type": "stream",
     "text": [
      "H\n",
      "2018\n",
      "85\n",
      "900000\n",
      "300\n"
     ]
    }
   ],
   "source": [
    "suv.make = \"H\"\n",
    "suv.year = 2018\n",
    "suv.mileage = 85\n",
    "suv.price = 900000\n",
    "suv.pass_cap = 300\n",
    "\n",
    "print(suv.make)\n",
    "print(suv.year)\n",
    "print(suv.mileage)\n",
    "print(suv.price)\n",
    "print(suv.pass_cap)"
   ]
  },
  {
   "cell_type": "markdown",
   "metadata": {},
   "source": [
    "# Bài 3 - Polymorphism\n",
    "\n",
    "- Tạo lớp `Animal` gồm thuộc tính  `__species` (loài).\n",
    "\n",
    "- Định nghĩa phương thức `__init__` cho lớp `Animal` để khởi tạo thuộc tính này.\n",
    "\n",
    "- Định nghĩa phương thức `__str__` để trả về chuỗi gồm thuộc tính trên để cung cấp thông tin về một `animal` cụ thể.\n",
    "\n",
    "- Định nghĩa phương thức `speak` để trả về chuỗi mô tả tiếng kêu của một `animal` cụ thể.\n",
    "\n",
    "- Tạo các lớp `Dog`, `Cat`, `Bird`, `Fish` kế thừa lớp `Animal`. Overide lại các phương thức `__init__`, `__str__`, và `speak` một cách phù hợp.\n",
    "\n",
    "- Tạo một danh sách các `object` của các lớp `Animal`, `Dog`, `Cat`, `Bird` và `Fish` với các giá trị thuộc tính cụ thể.\n",
    "\n",
    "- Duyệt qua danh sách để in ra thông tin của các động vật và tiếng kêu của chúng."
   ]
  },
  {
   "cell_type": "code",
   "execution_count": 43,
   "metadata": {},
   "outputs": [],
   "source": [
    "class Animal:\n",
    "    def __init__(self, species):\n",
    "        self.__species = species\n",
    "    def __str__(self):\n",
    "        return f\"Loài: {self.__species}\"\n",
    "    def speak(self):\n",
    "        return f\"Con vật đang kêu...\"\n",
    "\n",
    "class Dog(Animal):\n",
    "    def __init__(self, name):\n",
    "        self.__name = name\n",
    "    def __str__(self):\n",
    "        return f\"Tên: {self.__name}\"\n",
    "    def speak(self):\n",
    "        return f\"Gâu gâu\"\n",
    "\n",
    "\n",
    "class Cat(Animal):\n",
    "    def __init__(self, fur_color):\n",
    "        self.__fur_color = fur_color\n",
    "    def __str__(self):\n",
    "        return f\"Màu lông: {self.__fur_color}\"\n",
    "    def speak(self):\n",
    "        return f\"Meow meow\"\n",
    "\n",
    "\n",
    "class Bird(Animal):\n",
    "    def __init__(self, food):\n",
    "        self.__food = food\n",
    "    def __str__(self):\n",
    "        return f\"Thức ăn: {self.__food}\"\n",
    "    def speak(self):\n",
    "        return f\"Quoạc quoạc\"\n",
    "\n",
    "\n",
    "class Fish(Animal):\n",
    "    def __init__(self, water):\n",
    "        self.__water = water\n",
    "    def __str__(self):\n",
    "        return f\"Sống ở vùng nước: {self.__water}\"\n",
    "    def speak(self):\n",
    "        return f\"Ét ét\""
   ]
  },
  {
   "cell_type": "code",
   "execution_count": 44,
   "metadata": {},
   "outputs": [],
   "source": [
    "dog = Dog(\"Husky\")\n",
    "cat = Cat(\"Đen mượt\")\n",
    "bird = Bird(\"Thực vật\")\n",
    "fish = Fish(\"Ngọt\")\n"
   ]
  },
  {
   "cell_type": "code",
   "execution_count": 45,
   "metadata": {},
   "outputs": [
    {
     "name": "stdout",
     "output_type": "stream",
     "text": [
      "Tên: Husky . Tiếng kêu: Gâu gâu\n",
      "Màu lông: Đen mượt . Tiếng kêu: Meow meow\n",
      "Thức ăn: Thực vật . Tiếng kêu: Quoạc quoạc\n",
      "Sống ở vùng nước: Ngọt . Tiếng kêu: Ét ét\n"
     ]
    }
   ],
   "source": [
    "lst = [dog, cat, bird, fish]\n",
    "for i in lst:\n",
    "    print(i, \". Tiếng kêu:\", i.speak())"
   ]
  }
 ],
 "metadata": {
  "kernelspec": {
   "display_name": "Python 3 (ipykernel)",
   "language": "python",
   "name": "python3"
  },
  "language_info": {
   "codemirror_mode": {
    "name": "ipython",
    "version": 3
   },
   "file_extension": ".py",
   "mimetype": "text/x-python",
   "name": "python",
   "nbconvert_exporter": "python",
   "pygments_lexer": "ipython3",
   "version": "3.9.7"
  },
  "metadata": {
   "interpreter": {
    "hash": "e404b59586357c814bc0d3940e75d6763c00a48753b225b81f7716971b8e1741"
   }
  }
 },
 "nbformat": 4,
 "nbformat_minor": 4
}
