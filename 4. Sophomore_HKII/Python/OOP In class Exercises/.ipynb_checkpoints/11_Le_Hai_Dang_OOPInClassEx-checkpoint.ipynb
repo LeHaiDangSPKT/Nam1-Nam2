{
 "cells": [
  {
   "cell_type": "markdown",
   "metadata": {},
   "source": [
    "# Bài 1\n",
    "\n",
    "Định nghĩa lớp `PhanSo` để biểu diễn một số hữu tỷ. Hiện thực các phương thức (phép toán) sau:\n",
    "\n",
    "- Định nghĩa hàm `__init__(self, tu, mau)` để khởi tạo phân số `tu/mau` (ta sẽ gọi hàm bằng cách viết `PhanSo(tu, mau)`).\n",
    "\n",
    "- Định nghĩa hàm `__str__(self)` để tra về chuỗi mô tả phân số dạng `tu/mau` (ta sẽ gọi hàm bằng cách viết `print(p)`)\n",
    "\n",
    "- Định nghĩa hàm `__add__(self, b)` để trả về tổng phân số đang xét và phân số `b` (ta sẽ gọi hàm bằng cách viết `a + b`)\n",
    "\n",
    "- Định nghĩa hàm `__sub__(self, b)` để trả về hiệu phân số đang xét và phân số `b` (ta sẽ gọi hàm bằng cách viết `a - b`)\n",
    "\n",
    "- Định nghĩa hàm `__neg__(self)` để trả về phân số đối của phân số đang xét (ta sẽ gọi hàm bằng cách viết `-a`)\n",
    "\n",
    "- Định nghĩa hàm `__mul__(self, b)` để trả về tích của phân số đang xét và phân số `b` (ta sẽ gọi hàm bằng cách viết `a * b`)\n",
    "\n",
    "- Định nghĩa hàm `__truediv__(self, b)` để trả về thương của phân số đang xét và phân số `b` (ta sẽ gọi hàm bằng cách viết `a / b`)\n",
    "\n",
    "- Định nghĩa hàm `__invert__(self)` để trả về thương của phân số đang xét (ta sẽ gọi hàm bằng cách viết `~a`, tức `1/a`)\n",
    "\n",
    "- Định nghĩa hàm `__iadd__(self, b)` để hiện thực dạng viết tắt của `a = a + b` (ta sẽ gọi hàm bằng cách viết `a += b`)\n",
    "\n",
    "- Định nghĩa hàm `__isub__(self, b)` để hiện thực dạng viết tắt của `a = a + b` (ta sẽ gọi hàm bằng cách viết `a -= b`)\n",
    "\n",
    "- Định nghĩa hàm `__imul__(self, b)` để hiện thực dạng viết tắt của `a = a + b` (ta sẽ gọi hàm bằng cách viết `a *= b`)\n",
    "\n",
    "- Định nghĩa hàm `__idiv__(self, b)` để hiện thực dạng viết tắt của `a = a + b` (ta sẽ gọi hàm bằng cách viết `a /= b`)\n",
    "\n",
    "- Định nghĩa hàm `__eq__(self, b)` để kiểm tra phân số đang xét và phân số `b` có bằng nhau? (ta sẽ gọi hàm bằng cách viết `a == b`)\n",
    "\n",
    "- Định nghĩa hàm `__ne__(self, b)` để kiểm tra phân số đang xét và phân số `b` có khác nhau? (ta sẽ gọi hàm bằng cách viết `a != b`)\n",
    "\n",
    "- Định nghĩa hàm `__gt__(self, b)` để kiểm tra phân số đang xét và có lớn hơn phân số `b`? (ta sẽ gọi hàm bằng cách viết `a > b`)\n",
    "\n",
    "- Định nghĩa hàm `__lt__(self, b)` để kiểm tra phân số đang xét và có bé hơn phân số `b`? (ta sẽ gọi hàm bằng cách viết `a < b`)\n",
    "\n",
    "- Định nghĩa hàm `__ge__(self, b)` để kiểm tra phân số đang xét và có lớn hơn hoặc bằng phân số `b`? (ta sẽ gọi hàm bằng cách viết `a >= b`)\n",
    "\n",
    "- Định nghĩa hàm `__le__(self, b)` để kiểm tra phân số đang xét và có bé hơn hoặc bằng phân số `b`? (ta sẽ gọi hàm bằng cách viết `a <= b`)\n",
    "\n",
    "- Định nghĩa hàm `__abs__(self, b)` để trả về giá trị tuyệt đối của phân số `a` (ta sẽ gọi hàm bằng cách viết `abs(a)`)."
   ]
  },
  {
   "cell_type": "code",
   "execution_count": null,
   "metadata": {},
   "outputs": [],
   "source": [
    "class PhanSo:\n",
    "   # Khởi tạo\n",
    "    def __init__(self, tu, mau):\n",
    "        self.tu = tu\n",
    "        self.mau = mau\n",
    "        \n",
    "   # In\n",
    "    def __str__(self):\n",
    "        self = PhanSo.__neg__(-self)    #Đưa dấu trừ lên tử\n",
    "        return f\"{self.tu} / {self.mau}\"\n",
    "   \n",
    "    # Phân số đối\n",
    "    def __neg__(self):\n",
    "        ps = PhanSo(self.tu, self.mau)\n",
    "        if self.tu < 0 and self.mau < 0:\n",
    "            ps.tu = self.tu\n",
    "            ps.mau = -self.mau\n",
    "        elif self.tu < 0 or (self.tu > 0 and self.mau > 0):\n",
    "            ps.tu = -self.tu\n",
    "            ps.mau= self.mau\n",
    "        else:\n",
    "            ps.tu = self.tu\n",
    "            ps.mau = -self.mau\n",
    "        return ps\n",
    "    \n",
    "    # Ước chung lớn nhất\n",
    "    def UCLN(a, b):\n",
    "        while (b != 0):\n",
    "            tmp = a % b\n",
    "            a = b\n",
    "            b = tmp\n",
    "        return a\n",
    "\n",
    "    # a + b\n",
    "    def __add__(self, b):\n",
    "        x = self.tu*b.mau + b.tu*self.mau\n",
    "        y = self.mau*b.mau\n",
    "        ps = PhanSo(x,y)\n",
    "        ucln = PhanSo.UCLN(x,y)\n",
    "        ps.tu = int(ps.tu / ucln)\n",
    "        ps.mau = int(ps.mau / ucln)\n",
    "        return ps\n",
    "    \n",
    "    # a - b\n",
    "    def __sub__(self, b):\n",
    "        x = self.tu*b.mau - b.tu*self.mau\n",
    "        y = self.mau*b.mau\n",
    "        ps = PhanSo(x,y)\n",
    "        ucln = PhanSo.UCLN(x,y)\n",
    "        ps.tu = int(ps.tu / ucln)\n",
    "        ps.mau = int(ps.mau / ucln)\n",
    "        return ps\n",
    "    \n",
    "    # a * b\n",
    "    def __mul__(self, b):\n",
    "        x = self.tu*b.tu\n",
    "        y = self.mau*b.mau\n",
    "        ps = PhanSo(x,y)\n",
    "        ucln = PhanSo.UCLN(x,y)\n",
    "        ps.tu = int(ps.tu / ucln)\n",
    "        ps.mau = int(ps.mau / ucln)\n",
    "        return ps\n",
    "    \n",
    "    # a / b\n",
    "    def __truediv__(self, b):\n",
    "        x = self.tu*b.mau\n",
    "        y = self.mau*b.tu\n",
    "        ps = PhanSo(x,y)\n",
    "        ucln = PhanSo.UCLN(x,y)\n",
    "        ps.tu = int(ps.tu / ucln)\n",
    "        ps.mau = int(ps.mau / ucln)\n",
    "        return ps\n",
    "    \n",
    "    # Phân số nghịch đảo\n",
    "    def __invert__(self):\n",
    "        ps = PhanSo(self.mau, self.tu)\n",
    "        return ps\n",
    "    \n",
    "    # psA > psB ?\n",
    "    def __gt__(self, b):\n",
    "        kq = PhanSo.__sub__(self, b)\n",
    "        return kq.tu*kq.mau > 0\n",
    "    \n",
    "    # psA >= psB ?\n",
    "    def __ge__(self, b):\n",
    "        kq = PhanSo.__sub__(self, b)\n",
    "        return kq.tu*kq.mau >= 0\n",
    "    \n",
    "    # Trị tuyệt đối\n",
    "    def __abs__(self):\n",
    "        ps = PhanSo(self.tu, self.mau)\n",
    "        if self.tu < 0:\n",
    "            ps.tu = -self.tu\n",
    "        if self.mau < 0:\n",
    "            ps.mau = -self.mau\n",
    "        return ps\n",
    "        \n",
    "            \n",
    "        "
   ]
  },
  {
   "cell_type": "code",
   "execution_count": null,
   "metadata": {},
   "outputs": [],
   "source": [
    "a = PhanSo(3, -5)\n",
    "b = PhanSo(1, 3)"
   ]
  },
  {
   "cell_type": "code",
   "execution_count": null,
   "metadata": {},
   "outputs": [],
   "source": [
    "print(a)"
   ]
  },
  {
   "cell_type": "code",
   "execution_count": null,
   "metadata": {},
   "outputs": [],
   "source": [
    "print(b)"
   ]
  },
  {
   "cell_type": "code",
   "execution_count": null,
   "metadata": {},
   "outputs": [],
   "source": [
    "x = a + b\n",
    "y = a - b\n",
    "z = a * b\n",
    "t = a / b"
   ]
  },
  {
   "cell_type": "code",
   "execution_count": null,
   "metadata": {},
   "outputs": [],
   "source": [
    "print(x)"
   ]
  },
  {
   "cell_type": "code",
   "execution_count": null,
   "metadata": {},
   "outputs": [],
   "source": [
    "print(y)"
   ]
  },
  {
   "cell_type": "code",
   "execution_count": null,
   "metadata": {},
   "outputs": [],
   "source": [
    "print(z)"
   ]
  },
  {
   "cell_type": "code",
   "execution_count": null,
   "metadata": {},
   "outputs": [],
   "source": [
    "PhanSo.UCLN(-3, 15)"
   ]
  },
  {
   "cell_type": "code",
   "execution_count": null,
   "metadata": {},
   "outputs": [],
   "source": [
    "print(t)"
   ]
  },
  {
   "cell_type": "code",
   "execution_count": null,
   "metadata": {},
   "outputs": [],
   "source": [
    "print(-a)"
   ]
  },
  {
   "cell_type": "code",
   "execution_count": null,
   "metadata": {},
   "outputs": [],
   "source": [
    "print(~a)"
   ]
  },
  {
   "cell_type": "code",
   "execution_count": null,
   "metadata": {},
   "outputs": [],
   "source": [
    "a += b\n",
    "print(a)"
   ]
  },
  {
   "cell_type": "code",
   "execution_count": null,
   "metadata": {},
   "outputs": [],
   "source": [
    "a -= b\n",
    "print(a)"
   ]
  },
  {
   "cell_type": "code",
   "execution_count": null,
   "metadata": {},
   "outputs": [],
   "source": [
    "a *= b\n",
    "print(a)"
   ]
  },
  {
   "cell_type": "code",
   "execution_count": null,
   "metadata": {},
   "outputs": [],
   "source": [
    "a /= b\n",
    "print(a)"
   ]
  },
  {
   "cell_type": "code",
   "execution_count": null,
   "metadata": {},
   "outputs": [],
   "source": [
    "print(a > b)"
   ]
  },
  {
   "cell_type": "code",
   "execution_count": null,
   "metadata": {},
   "outputs": [],
   "source": [
    "print(a < b)"
   ]
  },
  {
   "cell_type": "code",
   "execution_count": null,
   "metadata": {},
   "outputs": [],
   "source": [
    "print(a >= b)"
   ]
  },
  {
   "cell_type": "code",
   "execution_count": null,
   "metadata": {},
   "outputs": [],
   "source": [
    "print(a <= b)"
   ]
  },
  {
   "cell_type": "code",
   "execution_count": null,
   "metadata": {},
   "outputs": [],
   "source": [
    "print(abs(a))"
   ]
  },
  {
   "cell_type": "markdown",
   "metadata": {},
   "source": [
    "# Bài 2 - Getters/Setters vs. Properties\n",
    "\n",
    "- Tạo lớp `Pet` có các attribute sau:\n",
    "    \n",
    "    - `__name`: tên của thú cưng\n",
    "    \n",
    "    - `__animal_type`: loại thú cưng (Ví dụ: \"Dog\", \"Cat\", \"Bird\", \"Fish\")\n",
    "\n",
    "    - `__age`: tuổi của thú cưng\n",
    "\n",
    "- Định nghĩa phương thức `__init__` để khởi tạo các thuộc tính trên.\n",
    "\n",
    "- Định nghĩa phương thức `__str__` để trả về chuỗi gồm các thuộc tính trên để cung cấp thông tin về một thú cưng.\n",
    "\n",
    "- Định nghĩa các phương thức sau:\n",
    "\n",
    "    - `set_name`: phương thức này gán giá trị cho thuộc tính `__name`\n",
    "\n",
    "    - `set_animal_type`: phương thức này gán giá trị cho thuộc tính `__animal_type`\n",
    "\n",
    "    - `set_age`: phương thức này gán giá trị cho thuộc tính `__age`\n",
    "\n",
    "    - `get_name`: phương thức này trả về giá trị của thuộc tính `__name`\n",
    "\n",
    "    - `get_animal_type`: phương thức này trả về giá trị của thuộc tính `__animal_type`\n",
    "\n",
    "    - `get_age`: phương thức này trả về giá trị của thuộc tính `__age`\n",
    "\n",
    "- Tạo một vài `object` của lớp `Pet` với các thuộc tính `name`, `type`, và `age` cụ thể.\n",
    "\n",
    "- Sử dụng các phương thức `get_xxx` và `set_xxx` để truy xuất và gán giá trị cho các thuộc tính của các `object` đã tạo. In các thông tin này ra màn hình.\n",
    "\n",
    "- Thay các phương thức `getter/setter` ở trên bằng các `property` với `decorator` syntax\n",
    "\n",
    "- Tạo một vài `object` của lớp `Pet` với các thuộc tính `name`, `type`, và `age` cụ thể.\n",
    "\n",
    "- Sử dụng các phương thức `property` với `decorator` syntax để truy xuất và gán giá trị cho các thuộc tính của các `object` đã tạo. In các thông tin này ra màn hình."
   ]
  },
  {
   "cell_type": "code",
   "execution_count": 530,
   "metadata": {},
   "outputs": [],
   "source": [
    "class Pet:\n",
    "       \n",
    "    def __init__(self, name, animal_type, age):\n",
    "        self.__name = name\n",
    "        self.__animal_type = animal_type\n",
    "        self.__age = age\n",
    "    \n",
    "    def __str__(self):\n",
    "        return f\"Name: {self._Pet__name}, Animal_Type: {self._Pet__animal_type}, Age: {self._Pet__age}\"\n",
    "    \n",
    "#     # Getter + Setter ---> Name\n",
    "#     def set_name(self, name):\n",
    "#         self.__name = name\n",
    "#     def get_name(self):\n",
    "#         return self.__name\n",
    "    \n",
    "#     # Getter + Setter ---> Type\n",
    "#     def set_animal_type(self, animalType):\n",
    "#         self.__animal_type = animalType\n",
    "#     def get_animal_type(self):\n",
    "#         return self.__animal_type\n",
    "    \n",
    "#     # Getter + Setter ---> Age\n",
    "#     def set_age(self, age):\n",
    "#         self.__age = age\n",
    "#     def get_age(self):\n",
    "#         return self.__age\n",
    "    \n",
    "    # Getter + Setter ---> Name\n",
    "    @property\n",
    "    def name(self):\n",
    "        return self.__name\n",
    "    @name.setter\n",
    "    def name(self, name):\n",
    "        self.__name = name\n",
    "        \n",
    "    # Getter + Setter ---> Type\n",
    "    @property\n",
    "    def Type(self):\n",
    "        return self.__animal_type\n",
    "    @Type.setter\n",
    "    def Type(self, animalType):\n",
    "        self.__animal_type = animalType\n",
    "    \n",
    "    # Getter + Setter ---> Age\n",
    "    @property\n",
    "    def age(self):\n",
    "        return self.__age\n",
    "    @age.setter\n",
    "    def age(self, age):\n",
    "        self.__age = age\n",
    "    "
   ]
  },
  {
   "cell_type": "code",
   "execution_count": null,
   "metadata": {},
   "outputs": [],
   "source": [
    "dog = Pet(\"Bully\", \"Dog\", 2)\n",
    "cat = Pet(\"Munchkin\", \"Cat\", 5)\n",
    "bird = Pet(\"Parrot\", \"Bird\", 7)\n",
    "fish = Pet(\"Albacore\", \"Fish\", 3)"
   ]
  },
  {
   "cell_type": "code",
   "execution_count": null,
   "metadata": {},
   "outputs": [],
   "source": [
    "dog.set_name(\"Ngao Tây Tạng\")\n",
    "print(dog)"
   ]
  },
  {
   "cell_type": "code",
   "execution_count": null,
   "metadata": {},
   "outputs": [],
   "source": [
    "dog.get_age()"
   ]
  },
  {
   "cell_type": "code",
   "execution_count": null,
   "metadata": {},
   "outputs": [],
   "source": [
    "cat.set_age(4)\n",
    "print(cat)"
   ]
  },
  {
   "cell_type": "code",
   "execution_count": null,
   "metadata": {},
   "outputs": [],
   "source": [
    "cat.get_animal_type()"
   ]
  },
  {
   "cell_type": "code",
   "execution_count": null,
   "metadata": {},
   "outputs": [],
   "source": [
    "bird.set_animal_type(\"Fish\")\n",
    "print(bird)"
   ]
  },
  {
   "cell_type": "code",
   "execution_count": null,
   "metadata": {},
   "outputs": [],
   "source": [
    "fish.get_name()"
   ]
  },
  {
   "cell_type": "code",
   "execution_count": 531,
   "metadata": {},
   "outputs": [],
   "source": [
    "dog = Pet(\"Cỏ\", \"Dog\", 4)\n",
    "cat = Pet(\"Puchile\", \"Cat\", 1)\n",
    "bird = Pet(\"Cagru\", \"Bird\", 5)\n",
    "fish = Pet(\"Lophire\", \"Fish\", 2)"
   ]
  },
  {
   "cell_type": "code",
   "execution_count": 533,
   "metadata": {},
   "outputs": [
    {
     "name": "stdout",
     "output_type": "stream",
     "text": [
      "Name: Ngao Tây Tạng, Animal_Type: Dog, Age: 4\n"
     ]
    }
   ],
   "source": [
    "dog.name = \"Ngao Tây Tạng\"\n",
    "print(dog)"
   ]
  },
  {
   "cell_type": "code",
   "execution_count": 534,
   "metadata": {},
   "outputs": [
    {
     "data": {
      "text/plain": [
       "4"
      ]
     },
     "execution_count": 534,
     "metadata": {},
     "output_type": "execute_result"
    }
   ],
   "source": [
    "dog.age"
   ]
  },
  {
   "cell_type": "code",
   "execution_count": 536,
   "metadata": {},
   "outputs": [
    {
     "name": "stdout",
     "output_type": "stream",
     "text": [
      "Name: Puchile, Animal_Type: Cat, Age: 4\n"
     ]
    }
   ],
   "source": [
    "cat.age = 4\n",
    "print(cat)"
   ]
  },
  {
   "cell_type": "code",
   "execution_count": 538,
   "metadata": {},
   "outputs": [
    {
     "data": {
      "text/plain": [
       "'Cat'"
      ]
     },
     "execution_count": 538,
     "metadata": {},
     "output_type": "execute_result"
    }
   ],
   "source": [
    "cat.Type"
   ]
  },
  {
   "cell_type": "code",
   "execution_count": 539,
   "metadata": {},
   "outputs": [
    {
     "name": "stdout",
     "output_type": "stream",
     "text": [
      "Name: Cagru, Animal_Type: Bird, Age: 5\n"
     ]
    }
   ],
   "source": [
    "bird.set_animal_type = \"Fish\"\n",
    "print(bird)"
   ]
  },
  {
   "cell_type": "code",
   "execution_count": 540,
   "metadata": {},
   "outputs": [
    {
     "data": {
      "text/plain": [
       "'Lophire'"
      ]
     },
     "execution_count": 540,
     "metadata": {},
     "output_type": "execute_result"
    }
   ],
   "source": [
    "fish.name"
   ]
  },
  {
   "cell_type": "code",
   "execution_count": null,
   "metadata": {},
   "outputs": [],
   "source": []
  }
 ],
 "metadata": {
  "kernelspec": {
   "display_name": "Python 3 (ipykernel)",
   "language": "python",
   "name": "python3"
  },
  "language_info": {
   "codemirror_mode": {
    "name": "ipython",
    "version": 3
   },
   "file_extension": ".py",
   "mimetype": "text/x-python",
   "name": "python",
   "nbconvert_exporter": "python",
   "pygments_lexer": "ipython3",
   "version": "3.9.7"
  },
  "metadata": {
   "interpreter": {
    "hash": "e404b59586357c814bc0d3940e75d6763c00a48753b225b81f7716971b8e1741"
   }
  }
 },
 "nbformat": 4,
 "nbformat_minor": 4
}
